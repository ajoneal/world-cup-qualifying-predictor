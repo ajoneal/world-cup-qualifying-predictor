{
 "cells": [
  {
   "cell_type": "markdown",
   "id": "c8338bd8",
   "metadata": {},
   "source": [
    "# Exploratory Data Analysis"
   ]
  },
  {
   "cell_type": "code",
   "execution_count": 37,
   "id": "13710861",
   "metadata": {},
   "outputs": [],
   "source": [
    "import pandas as pd\n",
    "import numpy as np\n",
    "import matplotlib.pyplot as plt\n",
    "import seaborn as sns\n",
    "import dataframe_image as dfi"
   ]
  },
  {
   "cell_type": "code",
   "execution_count": 2,
   "id": "536ea4ed",
   "metadata": {},
   "outputs": [
    {
     "data": {
      "text/html": [
       "<div>\n",
       "<style scoped>\n",
       "    .dataframe tbody tr th:only-of-type {\n",
       "        vertical-align: middle;\n",
       "    }\n",
       "\n",
       "    .dataframe tbody tr th {\n",
       "        vertical-align: top;\n",
       "    }\n",
       "\n",
       "    .dataframe thead th {\n",
       "        text-align: right;\n",
       "    }\n",
       "</style>\n",
       "<table border=\"1\" class=\"dataframe\">\n",
       "  <thead>\n",
       "    <tr style=\"text-align: right;\">\n",
       "      <th></th>\n",
       "      <th>date</th>\n",
       "      <th>home_team</th>\n",
       "      <th>away_team</th>\n",
       "      <th>home_score</th>\n",
       "      <th>away_score</th>\n",
       "      <th>neutral</th>\n",
       "      <th>home_rank</th>\n",
       "      <th>away_rank</th>\n",
       "      <th>h_goals_for_avg</th>\n",
       "      <th>h_goals_against_avg</th>\n",
       "      <th>a_goals_for_avg</th>\n",
       "      <th>a_goals_against_avg</th>\n",
       "      <th>datetime</th>\n",
       "      <th>match_type_FIFA_WCQ</th>\n",
       "      <th>match_type_Friendly</th>\n",
       "      <th>match_type_Qualifier</th>\n",
       "      <th>match_type_Tournament/Cup_Match</th>\n",
       "    </tr>\n",
       "  </thead>\n",
       "  <tbody>\n",
       "    <tr>\n",
       "      <th>0</th>\n",
       "      <td>1993-01-01</td>\n",
       "      <td>Ghana</td>\n",
       "      <td>Mali</td>\n",
       "      <td>1</td>\n",
       "      <td>1</td>\n",
       "      <td>1</td>\n",
       "      <td>39.0</td>\n",
       "      <td>69.0</td>\n",
       "      <td>0.0</td>\n",
       "      <td>0.0</td>\n",
       "      <td>0.0</td>\n",
       "      <td>0.0</td>\n",
       "      <td>1993-01-01</td>\n",
       "      <td>0</td>\n",
       "      <td>1</td>\n",
       "      <td>0</td>\n",
       "      <td>0</td>\n",
       "    </tr>\n",
       "    <tr>\n",
       "      <th>1</th>\n",
       "      <td>1993-01-02</td>\n",
       "      <td>Gabon</td>\n",
       "      <td>Burkina Faso</td>\n",
       "      <td>1</td>\n",
       "      <td>1</td>\n",
       "      <td>0</td>\n",
       "      <td>55.0</td>\n",
       "      <td>97.0</td>\n",
       "      <td>0.0</td>\n",
       "      <td>0.0</td>\n",
       "      <td>0.0</td>\n",
       "      <td>0.0</td>\n",
       "      <td>1993-01-02</td>\n",
       "      <td>0</td>\n",
       "      <td>1</td>\n",
       "      <td>0</td>\n",
       "      <td>0</td>\n",
       "    </tr>\n",
       "    <tr>\n",
       "      <th>2</th>\n",
       "      <td>1993-01-02</td>\n",
       "      <td>Kuwait</td>\n",
       "      <td>Lebanon</td>\n",
       "      <td>2</td>\n",
       "      <td>0</td>\n",
       "      <td>0</td>\n",
       "      <td>71.0</td>\n",
       "      <td>161.0</td>\n",
       "      <td>0.0</td>\n",
       "      <td>0.0</td>\n",
       "      <td>0.0</td>\n",
       "      <td>0.0</td>\n",
       "      <td>1993-01-02</td>\n",
       "      <td>0</td>\n",
       "      <td>1</td>\n",
       "      <td>0</td>\n",
       "      <td>0</td>\n",
       "    </tr>\n",
       "    <tr>\n",
       "      <th>3</th>\n",
       "      <td>1993-01-03</td>\n",
       "      <td>Burkina Faso</td>\n",
       "      <td>Mali</td>\n",
       "      <td>1</td>\n",
       "      <td>0</td>\n",
       "      <td>1</td>\n",
       "      <td>97.0</td>\n",
       "      <td>69.0</td>\n",
       "      <td>0.0</td>\n",
       "      <td>0.0</td>\n",
       "      <td>1.0</td>\n",
       "      <td>1.0</td>\n",
       "      <td>1993-01-03</td>\n",
       "      <td>0</td>\n",
       "      <td>1</td>\n",
       "      <td>0</td>\n",
       "      <td>0</td>\n",
       "    </tr>\n",
       "    <tr>\n",
       "      <th>4</th>\n",
       "      <td>1993-01-03</td>\n",
       "      <td>Gabon</td>\n",
       "      <td>Ghana</td>\n",
       "      <td>2</td>\n",
       "      <td>3</td>\n",
       "      <td>0</td>\n",
       "      <td>55.0</td>\n",
       "      <td>39.0</td>\n",
       "      <td>1.0</td>\n",
       "      <td>1.0</td>\n",
       "      <td>0.0</td>\n",
       "      <td>0.0</td>\n",
       "      <td>1993-01-03</td>\n",
       "      <td>0</td>\n",
       "      <td>1</td>\n",
       "      <td>0</td>\n",
       "      <td>0</td>\n",
       "    </tr>\n",
       "  </tbody>\n",
       "</table>\n",
       "</div>"
      ],
      "text/plain": [
       "         date     home_team     away_team  home_score  away_score  neutral  \\\n",
       "0  1993-01-01         Ghana          Mali           1           1        1   \n",
       "1  1993-01-02         Gabon  Burkina Faso           1           1        0   \n",
       "2  1993-01-02        Kuwait       Lebanon           2           0        0   \n",
       "3  1993-01-03  Burkina Faso          Mali           1           0        1   \n",
       "4  1993-01-03         Gabon         Ghana           2           3        0   \n",
       "\n",
       "   home_rank  away_rank  h_goals_for_avg  h_goals_against_avg  \\\n",
       "0       39.0       69.0              0.0                  0.0   \n",
       "1       55.0       97.0              0.0                  0.0   \n",
       "2       71.0      161.0              0.0                  0.0   \n",
       "3       97.0       69.0              0.0                  0.0   \n",
       "4       55.0       39.0              1.0                  1.0   \n",
       "\n",
       "   a_goals_for_avg  a_goals_against_avg    datetime  match_type_FIFA_WCQ  \\\n",
       "0              0.0                  0.0  1993-01-01                    0   \n",
       "1              0.0                  0.0  1993-01-02                    0   \n",
       "2              0.0                  0.0  1993-01-02                    0   \n",
       "3              1.0                  1.0  1993-01-03                    0   \n",
       "4              0.0                  0.0  1993-01-03                    0   \n",
       "\n",
       "   match_type_Friendly  match_type_Qualifier  match_type_Tournament/Cup_Match  \n",
       "0                    1                     0                                0  \n",
       "1                    1                     0                                0  \n",
       "2                    1                     0                                0  \n",
       "3                    1                     0                                0  \n",
       "4                    1                     0                                0  "
      ]
     },
     "execution_count": 2,
     "metadata": {},
     "output_type": "execute_result"
    }
   ],
   "source": [
    "df = pd.read_csv('./data/cleaned_results_and_rankings.csv')\n",
    "df.head()"
   ]
  },
  {
   "cell_type": "code",
   "execution_count": 3,
   "id": "5c6374eb",
   "metadata": {},
   "outputs": [
    {
     "data": {
      "text/plain": [
       "(23212, 17)"
      ]
     },
     "execution_count": 3,
     "metadata": {},
     "output_type": "execute_result"
    }
   ],
   "source": [
    "df.shape"
   ]
  },
  {
   "cell_type": "code",
   "execution_count": 4,
   "id": "3a0f6c29",
   "metadata": {},
   "outputs": [
    {
     "data": {
      "text/html": [
       "<div>\n",
       "<style scoped>\n",
       "    .dataframe tbody tr th:only-of-type {\n",
       "        vertical-align: middle;\n",
       "    }\n",
       "\n",
       "    .dataframe tbody tr th {\n",
       "        vertical-align: top;\n",
       "    }\n",
       "\n",
       "    .dataframe thead th {\n",
       "        text-align: right;\n",
       "    }\n",
       "</style>\n",
       "<table border=\"1\" class=\"dataframe\">\n",
       "  <thead>\n",
       "    <tr style=\"text-align: right;\">\n",
       "      <th></th>\n",
       "      <th>home_score</th>\n",
       "      <th>away_score</th>\n",
       "      <th>neutral</th>\n",
       "      <th>home_rank</th>\n",
       "      <th>away_rank</th>\n",
       "      <th>h_goals_for_avg</th>\n",
       "      <th>h_goals_against_avg</th>\n",
       "      <th>a_goals_for_avg</th>\n",
       "      <th>a_goals_against_avg</th>\n",
       "      <th>match_type_FIFA_WCQ</th>\n",
       "      <th>match_type_Friendly</th>\n",
       "      <th>match_type_Qualifier</th>\n",
       "      <th>match_type_Tournament/Cup_Match</th>\n",
       "    </tr>\n",
       "  </thead>\n",
       "  <tbody>\n",
       "    <tr>\n",
       "      <th>count</th>\n",
       "      <td>23212.000000</td>\n",
       "      <td>23212.000000</td>\n",
       "      <td>23212.000000</td>\n",
       "      <td>23212.000000</td>\n",
       "      <td>23212.000000</td>\n",
       "      <td>23212.000000</td>\n",
       "      <td>23212.000000</td>\n",
       "      <td>23212.000000</td>\n",
       "      <td>23212.000000</td>\n",
       "      <td>23212.000000</td>\n",
       "      <td>23212.000000</td>\n",
       "      <td>23212.000000</td>\n",
       "      <td>23212.000000</td>\n",
       "    </tr>\n",
       "    <tr>\n",
       "      <th>mean</th>\n",
       "      <td>1.590557</td>\n",
       "      <td>1.065268</td>\n",
       "      <td>0.248191</td>\n",
       "      <td>77.133078</td>\n",
       "      <td>79.831337</td>\n",
       "      <td>1.578867</td>\n",
       "      <td>1.058258</td>\n",
       "      <td>1.050525</td>\n",
       "      <td>1.587493</td>\n",
       "      <td>0.224453</td>\n",
       "      <td>0.365199</td>\n",
       "      <td>0.174565</td>\n",
       "      <td>0.217172</td>\n",
       "    </tr>\n",
       "    <tr>\n",
       "      <th>std</th>\n",
       "      <td>1.536968</td>\n",
       "      <td>1.233606</td>\n",
       "      <td>0.431972</td>\n",
       "      <td>51.924689</td>\n",
       "      <td>52.725820</td>\n",
       "      <td>0.665309</td>\n",
       "      <td>0.603451</td>\n",
       "      <td>0.517663</td>\n",
       "      <td>0.833365</td>\n",
       "      <td>0.417230</td>\n",
       "      <td>0.481496</td>\n",
       "      <td>0.379603</td>\n",
       "      <td>0.412330</td>\n",
       "    </tr>\n",
       "    <tr>\n",
       "      <th>min</th>\n",
       "      <td>0.000000</td>\n",
       "      <td>0.000000</td>\n",
       "      <td>0.000000</td>\n",
       "      <td>1.000000</td>\n",
       "      <td>1.000000</td>\n",
       "      <td>0.000000</td>\n",
       "      <td>0.000000</td>\n",
       "      <td>0.000000</td>\n",
       "      <td>0.000000</td>\n",
       "      <td>0.000000</td>\n",
       "      <td>0.000000</td>\n",
       "      <td>0.000000</td>\n",
       "      <td>0.000000</td>\n",
       "    </tr>\n",
       "    <tr>\n",
       "      <th>25%</th>\n",
       "      <td>0.000000</td>\n",
       "      <td>0.000000</td>\n",
       "      <td>0.000000</td>\n",
       "      <td>33.000000</td>\n",
       "      <td>36.000000</td>\n",
       "      <td>1.200000</td>\n",
       "      <td>0.700000</td>\n",
       "      <td>0.700000</td>\n",
       "      <td>1.100000</td>\n",
       "      <td>0.000000</td>\n",
       "      <td>0.000000</td>\n",
       "      <td>0.000000</td>\n",
       "      <td>0.000000</td>\n",
       "    </tr>\n",
       "    <tr>\n",
       "      <th>50%</th>\n",
       "      <td>1.000000</td>\n",
       "      <td>1.000000</td>\n",
       "      <td>0.000000</td>\n",
       "      <td>70.000000</td>\n",
       "      <td>72.000000</td>\n",
       "      <td>1.500000</td>\n",
       "      <td>1.000000</td>\n",
       "      <td>1.000000</td>\n",
       "      <td>1.400000</td>\n",
       "      <td>0.000000</td>\n",
       "      <td>0.000000</td>\n",
       "      <td>0.000000</td>\n",
       "      <td>0.000000</td>\n",
       "    </tr>\n",
       "    <tr>\n",
       "      <th>75%</th>\n",
       "      <td>2.000000</td>\n",
       "      <td>2.000000</td>\n",
       "      <td>0.000000</td>\n",
       "      <td>115.000000</td>\n",
       "      <td>118.000000</td>\n",
       "      <td>2.000000</td>\n",
       "      <td>1.300000</td>\n",
       "      <td>1.400000</td>\n",
       "      <td>1.900000</td>\n",
       "      <td>0.000000</td>\n",
       "      <td>1.000000</td>\n",
       "      <td>0.000000</td>\n",
       "      <td>0.000000</td>\n",
       "    </tr>\n",
       "    <tr>\n",
       "      <th>max</th>\n",
       "      <td>10.000000</td>\n",
       "      <td>10.000000</td>\n",
       "      <td>1.000000</td>\n",
       "      <td>211.000000</td>\n",
       "      <td>211.000000</td>\n",
       "      <td>9.000000</td>\n",
       "      <td>7.000000</td>\n",
       "      <td>7.000000</td>\n",
       "      <td>22.000000</td>\n",
       "      <td>1.000000</td>\n",
       "      <td>1.000000</td>\n",
       "      <td>1.000000</td>\n",
       "      <td>1.000000</td>\n",
       "    </tr>\n",
       "  </tbody>\n",
       "</table>\n",
       "</div>"
      ],
      "text/plain": [
       "         home_score    away_score       neutral     home_rank     away_rank  \\\n",
       "count  23212.000000  23212.000000  23212.000000  23212.000000  23212.000000   \n",
       "mean       1.590557      1.065268      0.248191     77.133078     79.831337   \n",
       "std        1.536968      1.233606      0.431972     51.924689     52.725820   \n",
       "min        0.000000      0.000000      0.000000      1.000000      1.000000   \n",
       "25%        0.000000      0.000000      0.000000     33.000000     36.000000   \n",
       "50%        1.000000      1.000000      0.000000     70.000000     72.000000   \n",
       "75%        2.000000      2.000000      0.000000    115.000000    118.000000   \n",
       "max       10.000000     10.000000      1.000000    211.000000    211.000000   \n",
       "\n",
       "       h_goals_for_avg  h_goals_against_avg  a_goals_for_avg  \\\n",
       "count     23212.000000         23212.000000     23212.000000   \n",
       "mean          1.578867             1.058258         1.050525   \n",
       "std           0.665309             0.603451         0.517663   \n",
       "min           0.000000             0.000000         0.000000   \n",
       "25%           1.200000             0.700000         0.700000   \n",
       "50%           1.500000             1.000000         1.000000   \n",
       "75%           2.000000             1.300000         1.400000   \n",
       "max           9.000000             7.000000         7.000000   \n",
       "\n",
       "       a_goals_against_avg  match_type_FIFA_WCQ  match_type_Friendly  \\\n",
       "count         23212.000000         23212.000000         23212.000000   \n",
       "mean              1.587493             0.224453             0.365199   \n",
       "std               0.833365             0.417230             0.481496   \n",
       "min               0.000000             0.000000             0.000000   \n",
       "25%               1.100000             0.000000             0.000000   \n",
       "50%               1.400000             0.000000             0.000000   \n",
       "75%               1.900000             0.000000             1.000000   \n",
       "max              22.000000             1.000000             1.000000   \n",
       "\n",
       "       match_type_Qualifier  match_type_Tournament/Cup_Match  \n",
       "count          23212.000000                     23212.000000  \n",
       "mean               0.174565                         0.217172  \n",
       "std                0.379603                         0.412330  \n",
       "min                0.000000                         0.000000  \n",
       "25%                0.000000                         0.000000  \n",
       "50%                0.000000                         0.000000  \n",
       "75%                0.000000                         0.000000  \n",
       "max                1.000000                         1.000000  "
      ]
     },
     "execution_count": 4,
     "metadata": {},
     "output_type": "execute_result"
    }
   ],
   "source": [
    "df.describe()"
   ]
  },
  {
   "cell_type": "markdown",
   "id": "b7c95e7c",
   "metadata": {},
   "source": [
    "---"
   ]
  },
  {
   "cell_type": "markdown",
   "id": "aa8b9c7c",
   "metadata": {},
   "source": [
    "## EDA on Goals"
   ]
  },
  {
   "cell_type": "code",
   "execution_count": 45,
   "id": "3673a65d",
   "metadata": {
    "scrolled": true
   },
   "outputs": [
    {
     "data": {
      "text/plain": [
       "0     0.261287\n",
       "1     0.302990\n",
       "2     0.220705\n",
       "3     0.110546\n",
       "4     0.055316\n",
       "5     0.024255\n",
       "6     0.012494\n",
       "7     0.006031\n",
       "8     0.003619\n",
       "9     0.001723\n",
       "10    0.001034\n",
       "Name: home_score, dtype: float64"
      ]
     },
     "execution_count": 45,
     "metadata": {},
     "output_type": "execute_result"
    }
   ],
   "source": [
    "df['home_score'].value_counts(normalize=True).sort_index()"
   ]
  },
  {
   "cell_type": "code",
   "execution_count": 46,
   "id": "995df925",
   "metadata": {},
   "outputs": [
    {
     "data": {
      "text/plain": [
       "0     0.398759\n",
       "1     0.324401\n",
       "2     0.168404\n",
       "3     0.065354\n",
       "4     0.024729\n",
       "5     0.009004\n",
       "6     0.004524\n",
       "7     0.002843\n",
       "8     0.001206\n",
       "9     0.000388\n",
       "10    0.000388\n",
       "Name: away_score, dtype: float64"
      ]
     },
     "execution_count": 46,
     "metadata": {},
     "output_type": "execute_result"
    }
   ],
   "source": [
    "df['away_score'].value_counts(normalize=True).sort_index()"
   ]
  },
  {
   "cell_type": "code",
   "execution_count": 47,
   "id": "454f7b03",
   "metadata": {},
   "outputs": [
    {
     "data": {
      "text/html": [
       "<div>\n",
       "<style scoped>\n",
       "    .dataframe tbody tr th:only-of-type {\n",
       "        vertical-align: middle;\n",
       "    }\n",
       "\n",
       "    .dataframe tbody tr th {\n",
       "        vertical-align: top;\n",
       "    }\n",
       "\n",
       "    .dataframe thead th {\n",
       "        text-align: right;\n",
       "    }\n",
       "</style>\n",
       "<table border=\"1\" class=\"dataframe\">\n",
       "  <thead>\n",
       "    <tr style=\"text-align: right;\">\n",
       "      <th></th>\n",
       "      <th>home_score</th>\n",
       "      <th>away_score</th>\n",
       "      <th>neutral</th>\n",
       "      <th>home_rank</th>\n",
       "      <th>away_rank</th>\n",
       "    </tr>\n",
       "    <tr>\n",
       "      <th>home_team</th>\n",
       "      <th></th>\n",
       "      <th></th>\n",
       "      <th></th>\n",
       "      <th></th>\n",
       "      <th></th>\n",
       "    </tr>\n",
       "  </thead>\n",
       "  <tbody>\n",
       "    <tr>\n",
       "      <th>Canada</th>\n",
       "      <td>1.400000</td>\n",
       "      <td>0.847619</td>\n",
       "      <td>0.323810</td>\n",
       "      <td>77.485714</td>\n",
       "      <td>67.609524</td>\n",
       "    </tr>\n",
       "    <tr>\n",
       "      <th>Costa Rica</th>\n",
       "      <td>1.788889</td>\n",
       "      <td>0.866667</td>\n",
       "      <td>0.372222</td>\n",
       "      <td>45.505556</td>\n",
       "      <td>66.777778</td>\n",
       "    </tr>\n",
       "    <tr>\n",
       "      <th>El Salvador</th>\n",
       "      <td>1.265060</td>\n",
       "      <td>1.168675</td>\n",
       "      <td>0.554217</td>\n",
       "      <td>90.873494</td>\n",
       "      <td>81.343373</td>\n",
       "    </tr>\n",
       "    <tr>\n",
       "      <th>Honduras</th>\n",
       "      <td>1.677596</td>\n",
       "      <td>1.005464</td>\n",
       "      <td>0.437158</td>\n",
       "      <td>53.743169</td>\n",
       "      <td>70.754098</td>\n",
       "    </tr>\n",
       "    <tr>\n",
       "      <th>Jamaica</th>\n",
       "      <td>1.583815</td>\n",
       "      <td>0.849711</td>\n",
       "      <td>0.300578</td>\n",
       "      <td>59.028902</td>\n",
       "      <td>76.526012</td>\n",
       "    </tr>\n",
       "    <tr>\n",
       "      <th>Panama</th>\n",
       "      <td>1.526316</td>\n",
       "      <td>0.834586</td>\n",
       "      <td>0.195489</td>\n",
       "      <td>82.548872</td>\n",
       "      <td>77.375940</td>\n",
       "    </tr>\n",
       "    <tr>\n",
       "      <th>Mexico</th>\n",
       "      <td>1.878205</td>\n",
       "      <td>0.855769</td>\n",
       "      <td>0.657051</td>\n",
       "      <td>15.121795</td>\n",
       "      <td>47.647436</td>\n",
       "    </tr>\n",
       "    <tr>\n",
       "      <th>United States</th>\n",
       "      <td>1.737463</td>\n",
       "      <td>1.082596</td>\n",
       "      <td>0.073746</td>\n",
       "      <td>21.011799</td>\n",
       "      <td>52.345133</td>\n",
       "    </tr>\n",
       "  </tbody>\n",
       "</table>\n",
       "</div>"
      ],
      "text/plain": [
       "               home_score  away_score   neutral  home_rank  away_rank\n",
       "home_team                                                            \n",
       "Canada           1.400000    0.847619  0.323810  77.485714  67.609524\n",
       "Costa Rica       1.788889    0.866667  0.372222  45.505556  66.777778\n",
       "El Salvador      1.265060    1.168675  0.554217  90.873494  81.343373\n",
       "Honduras         1.677596    1.005464  0.437158  53.743169  70.754098\n",
       "Jamaica          1.583815    0.849711  0.300578  59.028902  76.526012\n",
       "Panama           1.526316    0.834586  0.195489  82.548872  77.375940\n",
       "Mexico           1.878205    0.855769  0.657051  15.121795  47.647436\n",
       "United States    1.737463    1.082596  0.073746  21.011799  52.345133"
      ]
     },
     "execution_count": 47,
     "metadata": {},
     "output_type": "execute_result"
    }
   ],
   "source": [
    "home_averages = df.groupby('home_team').mean()\n",
    "CONCACAF_homegames = home_averages.loc[['Canada', 'Costa Rica', 'El Salvador', 'Honduras', 'Jamaica', 'Panama', 'Mexico', 'United States']]\n",
    "CONCACAF_homegames[['home_score', 'away_score', 'neutral', 'home_rank', 'away_rank']]"
   ]
  },
  {
   "cell_type": "code",
   "execution_count": 9,
   "id": "3d18f048",
   "metadata": {},
   "outputs": [
    {
     "data": {
      "text/plain": [
       "home_team\n",
       "Mexico           1.878205\n",
       "Costa Rica       1.788889\n",
       "United States    1.737463\n",
       "Honduras         1.677596\n",
       "Jamaica          1.583815\n",
       "Panama           1.526316\n",
       "Canada           1.400000\n",
       "El Salvador      1.265060\n",
       "Name: home_score, dtype: float64"
      ]
     },
     "execution_count": 9,
     "metadata": {},
     "output_type": "execute_result"
    }
   ],
   "source": [
    "home_goals_for = CONCACAF_homegames['home_score'].sort_values(ascending=False)\n",
    "home_goals_for"
   ]
  },
  {
   "cell_type": "code",
   "execution_count": 10,
   "id": "ec6e8bf2",
   "metadata": {},
   "outputs": [
    {
     "data": {
      "text/plain": [
       "home_team\n",
       "El Salvador      1.168675\n",
       "United States    1.082596\n",
       "Honduras         1.005464\n",
       "Costa Rica       0.866667\n",
       "Mexico           0.855769\n",
       "Jamaica          0.849711\n",
       "Canada           0.847619\n",
       "Panama           0.834586\n",
       "Name: away_score, dtype: float64"
      ]
     },
     "execution_count": 10,
     "metadata": {},
     "output_type": "execute_result"
    }
   ],
   "source": [
    "home_goals_against = CONCACAF_homegames['away_score'].sort_values(ascending=False)\n",
    "home_goals_against"
   ]
  },
  {
   "cell_type": "code",
   "execution_count": 30,
   "id": "18865f16",
   "metadata": {},
   "outputs": [
    {
     "data": {
      "image/png": "[encoded data removed]",
      "text/plain": [
       "<Figure size 720x432 with 1 Axes>"
      ]
     },
     "metadata": {
      "needs_background": "light"
     },
     "output_type": "display_data"
    }
   ],
   "source": [
    "ax = CONCACAF_homegames.sort_values('home_score', ascending=True).plot(y=[ 'away_score', 'home_score'], \n",
    "                                                                  kind='barh', figsize=(10,6))\n",
    "plt.title('Goals Scored and Conceded as the Home Team', size=20)\n",
    "plt.xlabel('Average Goals per Game', size=15)\n",
    "plt.ylabel('Country', size=15)\n",
    "ax.legend(labels=('goals conceded', 'goals scored'))\n",
    "plt.savefig('./images/goals_scored_conceded_as_hometeam.png', bbox_inches='tight')\n",
    "plt.show();"
   ]
  },
  {
   "cell_type": "code",
   "execution_count": 48,
   "id": "f4e069fe",
   "metadata": {},
   "outputs": [
    {
     "data": {
      "text/html": [
       "<div>\n",
       "<style scoped>\n",
       "    .dataframe tbody tr th:only-of-type {\n",
       "        vertical-align: middle;\n",
       "    }\n",
       "\n",
       "    .dataframe tbody tr th {\n",
       "        vertical-align: top;\n",
       "    }\n",
       "\n",
       "    .dataframe thead th {\n",
       "        text-align: right;\n",
       "    }\n",
       "</style>\n",
       "<table border=\"1\" class=\"dataframe\">\n",
       "  <thead>\n",
       "    <tr style=\"text-align: right;\">\n",
       "      <th></th>\n",
       "      <th>home_score</th>\n",
       "      <th>away_score</th>\n",
       "      <th>neutral</th>\n",
       "      <th>home_rank</th>\n",
       "      <th>away_rank</th>\n",
       "    </tr>\n",
       "    <tr>\n",
       "      <th>away_team</th>\n",
       "      <th></th>\n",
       "      <th></th>\n",
       "      <th></th>\n",
       "      <th></th>\n",
       "      <th></th>\n",
       "    </tr>\n",
       "  </thead>\n",
       "  <tbody>\n",
       "    <tr>\n",
       "      <th>Canada</th>\n",
       "      <td>1.596774</td>\n",
       "      <td>1.120968</td>\n",
       "      <td>0.314516</td>\n",
       "      <td>63.411290</td>\n",
       "      <td>78.814516</td>\n",
       "    </tr>\n",
       "    <tr>\n",
       "      <th>Costa Rica</th>\n",
       "      <td>1.479263</td>\n",
       "      <td>1.082949</td>\n",
       "      <td>0.276498</td>\n",
       "      <td>50.368664</td>\n",
       "      <td>43.230415</td>\n",
       "    </tr>\n",
       "    <tr>\n",
       "      <th>El Salvador</th>\n",
       "      <td>1.776978</td>\n",
       "      <td>0.827338</td>\n",
       "      <td>0.330935</td>\n",
       "      <td>69.309353</td>\n",
       "      <td>92.489209</td>\n",
       "    </tr>\n",
       "    <tr>\n",
       "      <th>Honduras</th>\n",
       "      <td>1.528409</td>\n",
       "      <td>1.267045</td>\n",
       "      <td>0.352273</td>\n",
       "      <td>60.221591</td>\n",
       "      <td>54.539773</td>\n",
       "    </tr>\n",
       "    <tr>\n",
       "      <th>Jamaica</th>\n",
       "      <td>1.476684</td>\n",
       "      <td>1.046632</td>\n",
       "      <td>0.274611</td>\n",
       "      <td>70.875648</td>\n",
       "      <td>54.658031</td>\n",
       "    </tr>\n",
       "    <tr>\n",
       "      <th>Panama</th>\n",
       "      <td>1.699422</td>\n",
       "      <td>0.838150</td>\n",
       "      <td>0.271676</td>\n",
       "      <td>58.150289</td>\n",
       "      <td>82.722543</td>\n",
       "    </tr>\n",
       "    <tr>\n",
       "      <th>Mexico</th>\n",
       "      <td>1.245098</td>\n",
       "      <td>1.450980</td>\n",
       "      <td>0.436275</td>\n",
       "      <td>40.602941</td>\n",
       "      <td>15.093137</td>\n",
       "    </tr>\n",
       "    <tr>\n",
       "      <th>United States</th>\n",
       "      <td>1.670455</td>\n",
       "      <td>1.028409</td>\n",
       "      <td>0.176136</td>\n",
       "      <td>62.215909</td>\n",
       "      <td>20.426136</td>\n",
       "    </tr>\n",
       "  </tbody>\n",
       "</table>\n",
       "</div>"
      ],
      "text/plain": [
       "               home_score  away_score   neutral  home_rank  away_rank\n",
       "away_team                                                            \n",
       "Canada           1.596774    1.120968  0.314516  63.411290  78.814516\n",
       "Costa Rica       1.479263    1.082949  0.276498  50.368664  43.230415\n",
       "El Salvador      1.776978    0.827338  0.330935  69.309353  92.489209\n",
       "Honduras         1.528409    1.267045  0.352273  60.221591  54.539773\n",
       "Jamaica          1.476684    1.046632  0.274611  70.875648  54.658031\n",
       "Panama           1.699422    0.838150  0.271676  58.150289  82.722543\n",
       "Mexico           1.245098    1.450980  0.436275  40.602941  15.093137\n",
       "United States    1.670455    1.028409  0.176136  62.215909  20.426136"
      ]
     },
     "execution_count": 48,
     "metadata": {},
     "output_type": "execute_result"
    }
   ],
   "source": [
    "away_averages = df.groupby('away_team').mean()\n",
    "CONCACAF_awaygames = away_averages.loc[['Canada', 'Costa Rica', 'El Salvador', 'Honduras', 'Jamaica', 'Panama', 'Mexico', 'United States']]\n",
    "CONCACAF_awaygames[['home_score', 'away_score', 'neutral', 'home_rank', 'away_rank']]"
   ]
  },
  {
   "cell_type": "code",
   "execution_count": 13,
   "id": "6781403c",
   "metadata": {},
   "outputs": [
    {
     "data": {
      "text/plain": [
       "away_team\n",
       "Mexico           1.450980\n",
       "Honduras         1.267045\n",
       "Canada           1.120968\n",
       "Costa Rica       1.082949\n",
       "Jamaica          1.046632\n",
       "United States    1.028409\n",
       "Panama           0.838150\n",
       "El Salvador      0.827338\n",
       "Name: away_score, dtype: float64"
      ]
     },
     "execution_count": 13,
     "metadata": {},
     "output_type": "execute_result"
    }
   ],
   "source": [
    "away_goals_for = CONCACAF_awaygames['away_score'].sort_values(ascending=False)\n",
    "away_goals_for"
   ]
  },
  {
   "cell_type": "code",
   "execution_count": 14,
   "id": "86783b2e",
   "metadata": {},
   "outputs": [
    {
     "data": {
      "text/plain": [
       "away_team\n",
       "El Salvador      1.776978\n",
       "Panama           1.699422\n",
       "United States    1.670455\n",
       "Canada           1.596774\n",
       "Honduras         1.528409\n",
       "Costa Rica       1.479263\n",
       "Jamaica          1.476684\n",
       "Mexico           1.245098\n",
       "Name: home_score, dtype: float64"
      ]
     },
     "execution_count": 14,
     "metadata": {},
     "output_type": "execute_result"
    }
   ],
   "source": [
    "away_goals_against = CONCACAF_awaygames['home_score'].sort_values(ascending=False)\n",
    "away_goals_against"
   ]
  },
  {
   "cell_type": "code",
   "execution_count": 31,
   "id": "1213c067",
   "metadata": {},
   "outputs": [
    {
     "data": {
      "image/png": "[encoded data removed]",
      "text/plain": [
       "<Figure size 720x432 with 1 Axes>"
      ]
     },
     "metadata": {
      "needs_background": "light"
     },
     "output_type": "display_data"
    }
   ],
   "source": [
    "ax = CONCACAF_awaygames.sort_values('away_score', ascending=True).plot(y=[ 'home_score', 'away_score'], \n",
    "                                                                  kind='barh', figsize=(10,6))\n",
    "plt.title('Goals Scored and Conceded as the Away Team', size=20)\n",
    "plt.xlabel('Average Goals per Game', size=15)\n",
    "plt.ylabel('Country', size=15)\n",
    "ax.legend(labels=('goals conceded', 'goals scored'))\n",
    "plt.savefig('./images/goals_scored_conceded_as_awayteam.png', bbox_inches='tight')\n",
    "plt.show();"
   ]
  },
  {
   "cell_type": "markdown",
   "id": "848fbb3f",
   "metadata": {},
   "source": [
    "---"
   ]
  },
  {
   "cell_type": "markdown",
   "id": "91403702",
   "metadata": {},
   "source": [
    "## EDA on Win/Loss based on Home vs. Away"
   ]
  },
  {
   "cell_type": "code",
   "execution_count": 33,
   "id": "11f96e3b",
   "metadata": {},
   "outputs": [
    {
     "data": {
      "text/plain": [
       "0.48358607616749955"
      ]
     },
     "execution_count": 33,
     "metadata": {},
     "output_type": "execute_result"
    }
   ],
   "source": [
    "# percentage of wins by home teams\n",
    "df[df['home_score'] > df['away_score']].index.nunique() / df.shape[0]"
   ]
  },
  {
   "cell_type": "code",
   "execution_count": 34,
   "id": "7fd78614",
   "metadata": {},
   "outputs": [
    {
     "data": {
      "text/plain": [
       "0.27602102360847836"
      ]
     },
     "execution_count": 34,
     "metadata": {},
     "output_type": "execute_result"
    }
   ],
   "source": [
    "# percentage of wins by away teams\n",
    "df[df['home_score'] < df['away_score']].index.nunique() / df.shape[0]"
   ]
  },
  {
   "cell_type": "code",
   "execution_count": 35,
   "id": "e1b5cfde",
   "metadata": {},
   "outputs": [
    {
     "data": {
      "text/plain": [
       "0.24039290022402207"
      ]
     },
     "execution_count": 35,
     "metadata": {},
     "output_type": "execute_result"
    }
   ],
   "source": [
    "# percentage of ties\n",
    "df[df['home_score'] == df['away_score']].index.nunique() / df.shape[0]"
   ]
  },
  {
   "cell_type": "code",
   "execution_count": 43,
   "id": "d7ed2eb0",
   "metadata": {},
   "outputs": [
    {
     "data": {
      "text/html": [
       "<div>\n",
       "<style scoped>\n",
       "    .dataframe tbody tr th:only-of-type {\n",
       "        vertical-align: middle;\n",
       "    }\n",
       "\n",
       "    .dataframe tbody tr th {\n",
       "        vertical-align: top;\n",
       "    }\n",
       "\n",
       "    .dataframe thead th {\n",
       "        text-align: right;\n",
       "    }\n",
       "</style>\n",
       "<table border=\"1\" class=\"dataframe\">\n",
       "  <thead>\n",
       "    <tr style=\"text-align: right;\">\n",
       "      <th></th>\n",
       "      <th>outcome</th>\n",
       "      <th>average_occurrence</th>\n",
       "    </tr>\n",
       "  </thead>\n",
       "  <tbody>\n",
       "    <tr>\n",
       "      <th>0</th>\n",
       "      <td>home_win</td>\n",
       "      <td>48%</td>\n",
       "    </tr>\n",
       "    <tr>\n",
       "      <th>1</th>\n",
       "      <td>away_win</td>\n",
       "      <td>28%</td>\n",
       "    </tr>\n",
       "    <tr>\n",
       "      <th>2</th>\n",
       "      <td>draw</td>\n",
       "      <td>24%</td>\n",
       "    </tr>\n",
       "  </tbody>\n",
       "</table>\n",
       "</div>"
      ],
      "text/plain": [
       "    outcome average_occurrence\n",
       "0  home_win                48%\n",
       "1  away_win                28%\n",
       "2      draw                24%"
      ]
     },
     "execution_count": 43,
     "metadata": {},
     "output_type": "execute_result"
    }
   ],
   "source": [
    "homeaway_winloss = {'outcome': ['home_win', 'away_win', 'draw'], 'average_occurrence': ['48%', '28%', '24%']}\n",
    "dfi.export(pd.DataFrame(homeaway_winloss), './images/home_v_away_winloss.png')\n",
    "pd.DataFrame(homeaway_winloss)"
   ]
  },
  {
   "cell_type": "markdown",
   "id": "e41f9183",
   "metadata": {},
   "source": [
    "---"
   ]
  },
  {
   "cell_type": "markdown",
   "id": "bd85896d",
   "metadata": {},
   "source": [
    "## EDA on Win/Loss based on Rank"
   ]
  },
  {
   "cell_type": "code",
   "execution_count": 16,
   "id": "c548125c",
   "metadata": {},
   "outputs": [
    {
     "data": {
      "text/plain": [
       "0.5454506289850077"
      ]
     },
     "execution_count": 16,
     "metadata": {},
     "output_type": "execute_result"
    }
   ],
   "source": [
    "# win percentage of higher ranked teams\n",
    "high_rank_win_pct = (df[(df['home_rank'] < df['away_rank']) & (df['home_score'] > df['away_score'])].index.nunique() + df[(df['away_rank'] < df['home_rank']) & (df['away_score'] > df['home_score'])].index.nunique()) / df.shape[0]\n",
    "high_rank_win_pct"
   ]
  },
  {
   "cell_type": "code",
   "execution_count": 15,
   "id": "3a139709",
   "metadata": {},
   "outputs": [
    {
     "data": {
      "text/plain": [
       "0.2141564707909702"
      ]
     },
     "execution_count": 15,
     "metadata": {},
     "output_type": "execute_result"
    }
   ],
   "source": [
    "# win percentage of lower ranked teams\n",
    "low_rank_win_pct = (df[(df['home_rank'] > df['away_rank']) & (df['home_score'] > df['away_score'])].index.nunique() + df[(df['away_rank'] > df['home_rank']) & (df['away_score'] > df['home_score'])].index.nunique()) / df.shape[0]\n",
    "low_rank_win_pct"
   ]
  },
  {
   "cell_type": "code",
   "execution_count": 17,
   "id": "b791a77b",
   "metadata": {},
   "outputs": [
    {
     "data": {
      "text/plain": [
       "0.24039290022402207"
      ]
     },
     "execution_count": 17,
     "metadata": {},
     "output_type": "execute_result"
    }
   ],
   "source": [
    "# percentage of draws\n",
    "tie_pct = (df[(df['home_rank'] < df['away_rank']) & (df['home_score'] == df['away_score'])].index.nunique() + df[(df['away_rank'] < df['home_rank']) & (df['away_score'] == df['home_score'])].index.nunique()) / df.shape[0]\n",
    "tie_pct"
   ]
  },
  {
   "cell_type": "code",
   "execution_count": 44,
   "id": "5077e9e0",
   "metadata": {},
   "outputs": [
    {
     "data": {
      "text/html": [
       "<div>\n",
       "<style scoped>\n",
       "    .dataframe tbody tr th:only-of-type {\n",
       "        vertical-align: middle;\n",
       "    }\n",
       "\n",
       "    .dataframe tbody tr th {\n",
       "        vertical-align: top;\n",
       "    }\n",
       "\n",
       "    .dataframe thead th {\n",
       "        text-align: right;\n",
       "    }\n",
       "</style>\n",
       "<table border=\"1\" class=\"dataframe\">\n",
       "  <thead>\n",
       "    <tr style=\"text-align: right;\">\n",
       "      <th></th>\n",
       "      <th>outcome</th>\n",
       "      <th>average_occurrence</th>\n",
       "    </tr>\n",
       "  </thead>\n",
       "  <tbody>\n",
       "    <tr>\n",
       "      <th>0</th>\n",
       "      <td>higher_rank_wins</td>\n",
       "      <td>55%</td>\n",
       "    </tr>\n",
       "    <tr>\n",
       "      <th>1</th>\n",
       "      <td>lower_rank_wins</td>\n",
       "      <td>21%</td>\n",
       "    </tr>\n",
       "    <tr>\n",
       "      <th>2</th>\n",
       "      <td>draw</td>\n",
       "      <td>24%</td>\n",
       "    </tr>\n",
       "  </tbody>\n",
       "</table>\n",
       "</div>"
      ],
      "text/plain": [
       "            outcome average_occurrence\n",
       "0  higher_rank_wins                55%\n",
       "1   lower_rank_wins                21%\n",
       "2              draw                24%"
      ]
     },
     "execution_count": 44,
     "metadata": {},
     "output_type": "execute_result"
    }
   ],
   "source": [
    "ranks_winloss = {'outcome': ['higher_rank_wins', 'lower_rank_wins', 'draw'], 'average_occurrence': ['55%', '21%', '24%']}\n",
    "dfi.export(pd.DataFrame(ranks_winloss), './images/ranks_winloss.png')\n",
    "pd.DataFrame(ranks_winloss)"
   ]
  },
  {
   "cell_type": "markdown",
   "id": "adc134e8",
   "metadata": {},
   "source": [
    "---"
   ]
  },
  {
   "cell_type": "markdown",
   "id": "112fda38",
   "metadata": {},
   "source": [
    "## Correlation Checks"
   ]
  },
  {
   "cell_type": "code",
   "execution_count": 18,
   "id": "d99ac5a1",
   "metadata": {},
   "outputs": [
    {
     "data": {
      "text/plain": [
       "<AxesSubplot:>"
      ]
     },
     "execution_count": 18,
     "metadata": {},
     "output_type": "execute_result"
    },
    {
     "data": {
      "image/png": "[encoded data removed]",
      "text/plain": [
       "<Figure size 432x288 with 2 Axes>"
      ]
     },
     "metadata": {
      "needs_background": "light"
     },
     "output_type": "display_data"
    }
   ],
   "source": [
    "sns.heatmap(df.corr()[['home_score']].sort_values('home_score', ascending=False), \n",
    "            annot=True, cmap='coolwarm', vmin=-1, vmax=1)"
   ]
  },
  {
   "cell_type": "code",
   "execution_count": 19,
   "id": "93cd2e29",
   "metadata": {},
   "outputs": [
    {
     "data": {
      "text/plain": [
       "<AxesSubplot:>"
      ]
     },
     "execution_count": 19,
     "metadata": {},
     "output_type": "execute_result"
    },
    {
     "data": {
      "image/png": "[encoded data removed]",
      "text/plain": [
       "<Figure size 432x288 with 2 Axes>"
      ]
     },
     "metadata": {
      "needs_background": "light"
     },
     "output_type": "display_data"
    }
   ],
   "source": [
    "sns.heatmap(df.corr()[['away_score']].sort_values('away_score', ascending=False), \n",
    "            annot=True, cmap='coolwarm', vmin=-1, vmax=1)"
   ]
  },
  {
   "cell_type": "code",
   "execution_count": null,
   "id": "4b345d5b",
   "metadata": {},
   "outputs": [],
   "source": []
  }
 ],
 "metadata": {
  "kernelspec": {
   "display_name": "Python 3",
   "language": "python",
   "name": "python3"
  },
  "language_info": {
   "codemirror_mode": {
    "name": "ipython",
    "version": 3
   },
   "file_extension": ".py",
   "mimetype": "text/x-python",
   "name": "python",
   "nbconvert_exporter": "python",
   "pygments_lexer": "ipython3",
   "version": "3.8.8"
  }
 },
 "nbformat": 4,
 "nbformat_minor": 5
}
