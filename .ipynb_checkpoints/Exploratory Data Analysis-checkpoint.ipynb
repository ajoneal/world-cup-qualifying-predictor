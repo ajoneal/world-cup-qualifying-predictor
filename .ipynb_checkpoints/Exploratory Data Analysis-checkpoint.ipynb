{
 "cells": [
  {
   "cell_type": "code",
   "execution_count": 31,
   "id": "13710861",
   "metadata": {},
   "outputs": [],
   "source": [
    "import pandas as pd\n",
    "import numpy as np\n",
    "import matplotlib.pyplot as plt"
   ]
  },
  {
   "cell_type": "code",
   "execution_count": 2,
   "id": "536ea4ed",
   "metadata": {},
   "outputs": [
    {
     "data": {
      "text/html": [
       "<div>\n",
       "<style scoped>\n",
       "    .dataframe tbody tr th:only-of-type {\n",
       "        vertical-align: middle;\n",
       "    }\n",
       "\n",
       "    .dataframe tbody tr th {\n",
       "        vertical-align: top;\n",
       "    }\n",
       "\n",
       "    .dataframe thead th {\n",
       "        text-align: right;\n",
       "    }\n",
       "</style>\n",
       "<table border=\"1\" class=\"dataframe\">\n",
       "  <thead>\n",
       "    <tr style=\"text-align: right;\">\n",
       "      <th></th>\n",
       "      <th>date</th>\n",
       "      <th>home_team</th>\n",
       "      <th>away_team</th>\n",
       "      <th>home_score</th>\n",
       "      <th>away_score</th>\n",
       "      <th>tournament</th>\n",
       "      <th>city</th>\n",
       "      <th>country</th>\n",
       "      <th>neutral</th>\n",
       "      <th>home_rank</th>\n",
       "      <th>away_rank</th>\n",
       "      <th>datetime</th>\n",
       "    </tr>\n",
       "  </thead>\n",
       "  <tbody>\n",
       "    <tr>\n",
       "      <th>0</th>\n",
       "      <td>1993-01-01</td>\n",
       "      <td>Ghana</td>\n",
       "      <td>Mali</td>\n",
       "      <td>1</td>\n",
       "      <td>1</td>\n",
       "      <td>Friendly</td>\n",
       "      <td>Libreville</td>\n",
       "      <td>Gabon</td>\n",
       "      <td>1</td>\n",
       "      <td>39.0</td>\n",
       "      <td>69.0</td>\n",
       "      <td>1993-01-01</td>\n",
       "    </tr>\n",
       "    <tr>\n",
       "      <th>1</th>\n",
       "      <td>1993-01-02</td>\n",
       "      <td>Gabon</td>\n",
       "      <td>Burkina Faso</td>\n",
       "      <td>1</td>\n",
       "      <td>1</td>\n",
       "      <td>Friendly</td>\n",
       "      <td>Libreville</td>\n",
       "      <td>Gabon</td>\n",
       "      <td>0</td>\n",
       "      <td>55.0</td>\n",
       "      <td>97.0</td>\n",
       "      <td>1993-01-02</td>\n",
       "    </tr>\n",
       "    <tr>\n",
       "      <th>2</th>\n",
       "      <td>1993-01-02</td>\n",
       "      <td>Kuwait</td>\n",
       "      <td>Lebanon</td>\n",
       "      <td>2</td>\n",
       "      <td>0</td>\n",
       "      <td>Friendly</td>\n",
       "      <td>Kuwait City</td>\n",
       "      <td>Kuwait</td>\n",
       "      <td>0</td>\n",
       "      <td>71.0</td>\n",
       "      <td>161.0</td>\n",
       "      <td>1993-01-02</td>\n",
       "    </tr>\n",
       "    <tr>\n",
       "      <th>3</th>\n",
       "      <td>1993-01-03</td>\n",
       "      <td>Burkina Faso</td>\n",
       "      <td>Mali</td>\n",
       "      <td>1</td>\n",
       "      <td>0</td>\n",
       "      <td>Friendly</td>\n",
       "      <td>Libreville</td>\n",
       "      <td>Gabon</td>\n",
       "      <td>1</td>\n",
       "      <td>97.0</td>\n",
       "      <td>69.0</td>\n",
       "      <td>1993-01-03</td>\n",
       "    </tr>\n",
       "    <tr>\n",
       "      <th>4</th>\n",
       "      <td>1993-01-03</td>\n",
       "      <td>Gabon</td>\n",
       "      <td>Ghana</td>\n",
       "      <td>2</td>\n",
       "      <td>3</td>\n",
       "      <td>Friendly</td>\n",
       "      <td>Libreville</td>\n",
       "      <td>Gabon</td>\n",
       "      <td>0</td>\n",
       "      <td>55.0</td>\n",
       "      <td>39.0</td>\n",
       "      <td>1993-01-03</td>\n",
       "    </tr>\n",
       "  </tbody>\n",
       "</table>\n",
       "</div>"
      ],
      "text/plain": [
       "         date     home_team     away_team  home_score  away_score tournament  \\\n",
       "0  1993-01-01         Ghana          Mali           1           1   Friendly   \n",
       "1  1993-01-02         Gabon  Burkina Faso           1           1   Friendly   \n",
       "2  1993-01-02        Kuwait       Lebanon           2           0   Friendly   \n",
       "3  1993-01-03  Burkina Faso          Mali           1           0   Friendly   \n",
       "4  1993-01-03         Gabon         Ghana           2           3   Friendly   \n",
       "\n",
       "          city country  neutral  home_rank  away_rank    datetime  \n",
       "0   Libreville   Gabon        1       39.0       69.0  1993-01-01  \n",
       "1   Libreville   Gabon        0       55.0       97.0  1993-01-02  \n",
       "2  Kuwait City  Kuwait        0       71.0      161.0  1993-01-02  \n",
       "3   Libreville   Gabon        1       97.0       69.0  1993-01-03  \n",
       "4   Libreville   Gabon        0       55.0       39.0  1993-01-03  "
      ]
     },
     "execution_count": 2,
     "metadata": {},
     "output_type": "execute_result"
    }
   ],
   "source": [
    "df = pd.read_csv('./data/cleaned_results_and_rankings.csv')\n",
    "df.head()"
   ]
  },
  {
   "cell_type": "code",
   "execution_count": 3,
   "id": "5c6374eb",
   "metadata": {},
   "outputs": [
    {
     "data": {
      "text/plain": [
       "(23769, 12)"
      ]
     },
     "execution_count": 3,
     "metadata": {},
     "output_type": "execute_result"
    }
   ],
   "source": [
    "df.shape"
   ]
  },
  {
   "cell_type": "code",
   "execution_count": 4,
   "id": "3a0f6c29",
   "metadata": {},
   "outputs": [
    {
     "data": {
      "text/html": [
       "<div>\n",
       "<style scoped>\n",
       "    .dataframe tbody tr th:only-of-type {\n",
       "        vertical-align: middle;\n",
       "    }\n",
       "\n",
       "    .dataframe tbody tr th {\n",
       "        vertical-align: top;\n",
       "    }\n",
       "\n",
       "    .dataframe thead th {\n",
       "        text-align: right;\n",
       "    }\n",
       "</style>\n",
       "<table border=\"1\" class=\"dataframe\">\n",
       "  <thead>\n",
       "    <tr style=\"text-align: right;\">\n",
       "      <th></th>\n",
       "      <th>home_score</th>\n",
       "      <th>away_score</th>\n",
       "      <th>neutral</th>\n",
       "      <th>home_rank</th>\n",
       "      <th>away_rank</th>\n",
       "    </tr>\n",
       "  </thead>\n",
       "  <tbody>\n",
       "    <tr>\n",
       "      <th>count</th>\n",
       "      <td>23769.000000</td>\n",
       "      <td>23769.000000</td>\n",
       "      <td>23769.000000</td>\n",
       "      <td>23769.000000</td>\n",
       "      <td>23769.000000</td>\n",
       "    </tr>\n",
       "    <tr>\n",
       "      <th>mean</th>\n",
       "      <td>1.589002</td>\n",
       "      <td>1.066263</td>\n",
       "      <td>0.247002</td>\n",
       "      <td>77.417182</td>\n",
       "      <td>80.144137</td>\n",
       "    </tr>\n",
       "    <tr>\n",
       "      <th>std</th>\n",
       "      <td>1.538220</td>\n",
       "      <td>1.234337</td>\n",
       "      <td>0.431277</td>\n",
       "      <td>52.045751</td>\n",
       "      <td>52.848422</td>\n",
       "    </tr>\n",
       "    <tr>\n",
       "      <th>min</th>\n",
       "      <td>0.000000</td>\n",
       "      <td>0.000000</td>\n",
       "      <td>0.000000</td>\n",
       "      <td>1.000000</td>\n",
       "      <td>1.000000</td>\n",
       "    </tr>\n",
       "    <tr>\n",
       "      <th>25%</th>\n",
       "      <td>0.000000</td>\n",
       "      <td>0.000000</td>\n",
       "      <td>0.000000</td>\n",
       "      <td>33.000000</td>\n",
       "      <td>36.000000</td>\n",
       "    </tr>\n",
       "    <tr>\n",
       "      <th>50%</th>\n",
       "      <td>1.000000</td>\n",
       "      <td>1.000000</td>\n",
       "      <td>0.000000</td>\n",
       "      <td>71.000000</td>\n",
       "      <td>73.000000</td>\n",
       "    </tr>\n",
       "    <tr>\n",
       "      <th>75%</th>\n",
       "      <td>2.000000</td>\n",
       "      <td>2.000000</td>\n",
       "      <td>0.000000</td>\n",
       "      <td>115.000000</td>\n",
       "      <td>118.000000</td>\n",
       "    </tr>\n",
       "    <tr>\n",
       "      <th>max</th>\n",
       "      <td>10.000000</td>\n",
       "      <td>10.000000</td>\n",
       "      <td>1.000000</td>\n",
       "      <td>211.000000</td>\n",
       "      <td>211.000000</td>\n",
       "    </tr>\n",
       "  </tbody>\n",
       "</table>\n",
       "</div>"
      ],
      "text/plain": [
       "         home_score    away_score       neutral     home_rank     away_rank\n",
       "count  23769.000000  23769.000000  23769.000000  23769.000000  23769.000000\n",
       "mean       1.589002      1.066263      0.247002     77.417182     80.144137\n",
       "std        1.538220      1.234337      0.431277     52.045751     52.848422\n",
       "min        0.000000      0.000000      0.000000      1.000000      1.000000\n",
       "25%        0.000000      0.000000      0.000000     33.000000     36.000000\n",
       "50%        1.000000      1.000000      0.000000     71.000000     73.000000\n",
       "75%        2.000000      2.000000      0.000000    115.000000    118.000000\n",
       "max       10.000000     10.000000      1.000000    211.000000    211.000000"
      ]
     },
     "execution_count": 4,
     "metadata": {},
     "output_type": "execute_result"
    }
   ],
   "source": [
    "df.describe()"
   ]
  },
  {
   "cell_type": "code",
   "execution_count": 5,
   "id": "3673a65d",
   "metadata": {
    "scrolled": true
   },
   "outputs": [
    {
     "data": {
      "text/plain": [
       "0     6228\n",
       "1     7206\n",
       "2     5234\n",
       "3     2614\n",
       "4     1314\n",
       "5      579\n",
       "6      297\n",
       "7      145\n",
       "8       87\n",
       "9       41\n",
       "10      24\n",
       "Name: home_score, dtype: int64"
      ]
     },
     "execution_count": 5,
     "metadata": {},
     "output_type": "execute_result"
    }
   ],
   "source": [
    "df['home_score'].value_counts().sort_index()"
   ]
  },
  {
   "cell_type": "code",
   "execution_count": 6,
   "id": "4ae9f4e5",
   "metadata": {
    "scrolled": false
   },
   "outputs": [
    {
     "data": {
      "text/html": [
       "<div>\n",
       "<style scoped>\n",
       "    .dataframe tbody tr th:only-of-type {\n",
       "        vertical-align: middle;\n",
       "    }\n",
       "\n",
       "    .dataframe tbody tr th {\n",
       "        vertical-align: top;\n",
       "    }\n",
       "\n",
       "    .dataframe thead th {\n",
       "        text-align: right;\n",
       "    }\n",
       "</style>\n",
       "<table border=\"1\" class=\"dataframe\">\n",
       "  <thead>\n",
       "    <tr style=\"text-align: right;\">\n",
       "      <th></th>\n",
       "      <th>date</th>\n",
       "      <th>home_team</th>\n",
       "      <th>away_team</th>\n",
       "      <th>home_score</th>\n",
       "      <th>away_score</th>\n",
       "      <th>tournament</th>\n",
       "      <th>city</th>\n",
       "      <th>country</th>\n",
       "      <th>neutral</th>\n",
       "      <th>home_rank</th>\n",
       "      <th>away_rank</th>\n",
       "      <th>datetime</th>\n",
       "    </tr>\n",
       "  </thead>\n",
       "  <tbody>\n",
       "  </tbody>\n",
       "</table>\n",
       "</div>"
      ],
      "text/plain": [
       "Empty DataFrame\n",
       "Columns: [date, home_team, away_team, home_score, away_score, tournament, city, country, neutral, home_rank, away_rank, datetime]\n",
       "Index: []"
      ]
     },
     "execution_count": 6,
     "metadata": {},
     "output_type": "execute_result"
    }
   ],
   "source": [
    "df[df['home_score'] > 10]"
   ]
  },
  {
   "cell_type": "code",
   "execution_count": 7,
   "id": "995df925",
   "metadata": {},
   "outputs": [
    {
     "data": {
      "text/plain": [
       "0     9460\n",
       "1     7733\n",
       "2     3995\n",
       "3     1553\n",
       "4      593\n",
       "5      213\n",
       "6      106\n",
       "7       68\n",
       "8       29\n",
       "9        9\n",
       "10      10\n",
       "Name: away_score, dtype: int64"
      ]
     },
     "execution_count": 7,
     "metadata": {},
     "output_type": "execute_result"
    }
   ],
   "source": [
    "df['away_score'].value_counts().sort_index()"
   ]
  },
  {
   "cell_type": "code",
   "execution_count": 8,
   "id": "8c583aa6",
   "metadata": {},
   "outputs": [
    {
     "data": {
      "text/plain": [
       "(0, 12)"
      ]
     },
     "execution_count": 8,
     "metadata": {},
     "output_type": "execute_result"
    }
   ],
   "source": [
    "df[df['away_score'] > 10].shape"
   ]
  },
  {
   "cell_type": "code",
   "execution_count": 20,
   "id": "454f7b03",
   "metadata": {},
   "outputs": [
    {
     "data": {
      "text/html": [
       "<div>\n",
       "<style scoped>\n",
       "    .dataframe tbody tr th:only-of-type {\n",
       "        vertical-align: middle;\n",
       "    }\n",
       "\n",
       "    .dataframe tbody tr th {\n",
       "        vertical-align: top;\n",
       "    }\n",
       "\n",
       "    .dataframe thead th {\n",
       "        text-align: right;\n",
       "    }\n",
       "</style>\n",
       "<table border=\"1\" class=\"dataframe\">\n",
       "  <thead>\n",
       "    <tr style=\"text-align: right;\">\n",
       "      <th></th>\n",
       "      <th>home_score</th>\n",
       "      <th>away_score</th>\n",
       "      <th>neutral</th>\n",
       "      <th>home_rank</th>\n",
       "      <th>away_rank</th>\n",
       "    </tr>\n",
       "    <tr>\n",
       "      <th>home_team</th>\n",
       "      <th></th>\n",
       "      <th></th>\n",
       "      <th></th>\n",
       "      <th></th>\n",
       "      <th></th>\n",
       "    </tr>\n",
       "  </thead>\n",
       "  <tbody>\n",
       "    <tr>\n",
       "      <th>Canada</th>\n",
       "      <td>1.436364</td>\n",
       "      <td>0.836364</td>\n",
       "      <td>0.309091</td>\n",
       "      <td>76.372727</td>\n",
       "      <td>66.800000</td>\n",
       "    </tr>\n",
       "    <tr>\n",
       "      <th>Costa Rica</th>\n",
       "      <td>1.767568</td>\n",
       "      <td>0.870270</td>\n",
       "      <td>0.367568</td>\n",
       "      <td>45.389189</td>\n",
       "      <td>66.167568</td>\n",
       "    </tr>\n",
       "    <tr>\n",
       "      <th>El Salvador</th>\n",
       "      <td>1.218391</td>\n",
       "      <td>1.160920</td>\n",
       "      <td>0.540230</td>\n",
       "      <td>89.609195</td>\n",
       "      <td>80.712644</td>\n",
       "    </tr>\n",
       "    <tr>\n",
       "      <th>Honduras</th>\n",
       "      <td>1.657754</td>\n",
       "      <td>1.032086</td>\n",
       "      <td>0.427807</td>\n",
       "      <td>53.967914</td>\n",
       "      <td>70.625668</td>\n",
       "    </tr>\n",
       "    <tr>\n",
       "      <th>Jamaica</th>\n",
       "      <td>1.576271</td>\n",
       "      <td>0.858757</td>\n",
       "      <td>0.293785</td>\n",
       "      <td>59.022599</td>\n",
       "      <td>76.853107</td>\n",
       "    </tr>\n",
       "    <tr>\n",
       "      <th>Panama</th>\n",
       "      <td>1.514493</td>\n",
       "      <td>0.833333</td>\n",
       "      <td>0.195652</td>\n",
       "      <td>82.057971</td>\n",
       "      <td>77.369565</td>\n",
       "    </tr>\n",
       "    <tr>\n",
       "      <th>Mexico</th>\n",
       "      <td>1.879747</td>\n",
       "      <td>0.860759</td>\n",
       "      <td>0.651899</td>\n",
       "      <td>15.044304</td>\n",
       "      <td>47.737342</td>\n",
       "    </tr>\n",
       "    <tr>\n",
       "      <th>United States</th>\n",
       "      <td>1.823529</td>\n",
       "      <td>0.857585</td>\n",
       "      <td>0.071207</td>\n",
       "      <td>23.037152</td>\n",
       "      <td>46.814241</td>\n",
       "    </tr>\n",
       "  </tbody>\n",
       "</table>\n",
       "</div>"
      ],
      "text/plain": [
       "               home_score  away_score   neutral  home_rank  away_rank\n",
       "home_team                                                            \n",
       "Canada           1.436364    0.836364  0.309091  76.372727  66.800000\n",
       "Costa Rica       1.767568    0.870270  0.367568  45.389189  66.167568\n",
       "El Salvador      1.218391    1.160920  0.540230  89.609195  80.712644\n",
       "Honduras         1.657754    1.032086  0.427807  53.967914  70.625668\n",
       "Jamaica          1.576271    0.858757  0.293785  59.022599  76.853107\n",
       "Panama           1.514493    0.833333  0.195652  82.057971  77.369565\n",
       "Mexico           1.879747    0.860759  0.651899  15.044304  47.737342\n",
       "United States    1.823529    0.857585  0.071207  23.037152  46.814241"
      ]
     },
     "execution_count": 20,
     "metadata": {},
     "output_type": "execute_result"
    }
   ],
   "source": [
    "home_averages = df.groupby('home_team').mean()\n",
    "CONCACAF_homegames = home_averages.loc[['Canada', 'Costa Rica', 'El Salvador', 'Honduras', 'Jamaica', 'Panama', 'Mexico', 'United States']]\n",
    "CONCACAF_homegames"
   ]
  },
  {
   "cell_type": "code",
   "execution_count": 26,
   "id": "3d18f048",
   "metadata": {},
   "outputs": [
    {
     "data": {
      "text/plain": [
       "home_team\n",
       "Mexico           1.879747\n",
       "United States    1.823529\n",
       "Costa Rica       1.767568\n",
       "Honduras         1.657754\n",
       "Jamaica          1.576271\n",
       "Panama           1.514493\n",
       "Canada           1.436364\n",
       "El Salvador      1.218391\n",
       "Name: home_score, dtype: float64"
      ]
     },
     "execution_count": 26,
     "metadata": {},
     "output_type": "execute_result"
    }
   ],
   "source": [
    "home_goals_for = CONCACAF_homegames['home_score'].sort_values(ascending=False)\n",
    "home_goals_for"
   ]
  },
  {
   "cell_type": "code",
   "execution_count": 27,
   "id": "ec6e8bf2",
   "metadata": {},
   "outputs": [
    {
     "data": {
      "text/plain": [
       "home_team\n",
       "El Salvador      1.160920\n",
       "Honduras         1.032086\n",
       "Costa Rica       0.870270\n",
       "Mexico           0.860759\n",
       "Jamaica          0.858757\n",
       "United States    0.857585\n",
       "Canada           0.836364\n",
       "Panama           0.833333\n",
       "Name: away_score, dtype: float64"
      ]
     },
     "execution_count": 27,
     "metadata": {},
     "output_type": "execute_result"
    }
   ],
   "source": [
    "home_goals_against = CONCACAF_homegames['away_score'].sort_values(ascending=False)\n",
    "home_goals_against"
   ]
  },
  {
   "cell_type": "code",
   "execution_count": 25,
   "id": "f4e069fe",
   "metadata": {},
   "outputs": [
    {
     "data": {
      "text/html": [
       "<div>\n",
       "<style scoped>\n",
       "    .dataframe tbody tr th:only-of-type {\n",
       "        vertical-align: middle;\n",
       "    }\n",
       "\n",
       "    .dataframe tbody tr th {\n",
       "        vertical-align: top;\n",
       "    }\n",
       "\n",
       "    .dataframe thead th {\n",
       "        text-align: right;\n",
       "    }\n",
       "</style>\n",
       "<table border=\"1\" class=\"dataframe\">\n",
       "  <thead>\n",
       "    <tr style=\"text-align: right;\">\n",
       "      <th></th>\n",
       "      <th>home_score</th>\n",
       "      <th>away_score</th>\n",
       "      <th>neutral</th>\n",
       "      <th>home_rank</th>\n",
       "      <th>away_rank</th>\n",
       "    </tr>\n",
       "    <tr>\n",
       "      <th>away_team</th>\n",
       "      <th></th>\n",
       "      <th></th>\n",
       "      <th></th>\n",
       "      <th></th>\n",
       "      <th></th>\n",
       "    </tr>\n",
       "  </thead>\n",
       "  <tbody>\n",
       "    <tr>\n",
       "      <th>Canada</th>\n",
       "      <td>1.578125</td>\n",
       "      <td>1.117188</td>\n",
       "      <td>0.312500</td>\n",
       "      <td>64.492188</td>\n",
       "      <td>78.078125</td>\n",
       "    </tr>\n",
       "    <tr>\n",
       "      <th>Costa Rica</th>\n",
       "      <td>1.466063</td>\n",
       "      <td>1.067873</td>\n",
       "      <td>0.271493</td>\n",
       "      <td>51.235294</td>\n",
       "      <td>43.248869</td>\n",
       "    </tr>\n",
       "    <tr>\n",
       "      <th>El Salvador</th>\n",
       "      <td>1.788732</td>\n",
       "      <td>0.823944</td>\n",
       "      <td>0.323944</td>\n",
       "      <td>70.373239</td>\n",
       "      <td>91.901408</td>\n",
       "    </tr>\n",
       "    <tr>\n",
       "      <th>Honduras</th>\n",
       "      <td>1.527778</td>\n",
       "      <td>1.250000</td>\n",
       "      <td>0.344444</td>\n",
       "      <td>59.866667</td>\n",
       "      <td>54.755556</td>\n",
       "    </tr>\n",
       "    <tr>\n",
       "      <th>Jamaica</th>\n",
       "      <td>1.469697</td>\n",
       "      <td>1.045455</td>\n",
       "      <td>0.267677</td>\n",
       "      <td>71.237374</td>\n",
       "      <td>54.676768</td>\n",
       "    </tr>\n",
       "    <tr>\n",
       "      <th>Panama</th>\n",
       "      <td>1.700565</td>\n",
       "      <td>0.858757</td>\n",
       "      <td>0.265537</td>\n",
       "      <td>58.158192</td>\n",
       "      <td>82.429379</td>\n",
       "    </tr>\n",
       "    <tr>\n",
       "      <th>Mexico</th>\n",
       "      <td>1.239234</td>\n",
       "      <td>1.440191</td>\n",
       "      <td>0.425837</td>\n",
       "      <td>41.588517</td>\n",
       "      <td>14.947368</td>\n",
       "    </tr>\n",
       "    <tr>\n",
       "      <th>United States</th>\n",
       "      <td>1.320261</td>\n",
       "      <td>1.143791</td>\n",
       "      <td>0.189542</td>\n",
       "      <td>44.189542</td>\n",
       "      <td>23.196078</td>\n",
       "    </tr>\n",
       "  </tbody>\n",
       "</table>\n",
       "</div>"
      ],
      "text/plain": [
       "               home_score  away_score   neutral  home_rank  away_rank\n",
       "away_team                                                            \n",
       "Canada           1.578125    1.117188  0.312500  64.492188  78.078125\n",
       "Costa Rica       1.466063    1.067873  0.271493  51.235294  43.248869\n",
       "El Salvador      1.788732    0.823944  0.323944  70.373239  91.901408\n",
       "Honduras         1.527778    1.250000  0.344444  59.866667  54.755556\n",
       "Jamaica          1.469697    1.045455  0.267677  71.237374  54.676768\n",
       "Panama           1.700565    0.858757  0.265537  58.158192  82.429379\n",
       "Mexico           1.239234    1.440191  0.425837  41.588517  14.947368\n",
       "United States    1.320261    1.143791  0.189542  44.189542  23.196078"
      ]
     },
     "execution_count": 25,
     "metadata": {},
     "output_type": "execute_result"
    }
   ],
   "source": [
    "away_averages = df.groupby('away_team').mean()\n",
    "CONCACAF_awaygames = away_averages.loc[['Canada', 'Costa Rica', 'El Salvador', 'Honduras', 'Jamaica', 'Panama', 'Mexico', 'United States']]\n",
    "CONCACAF_awaygames"
   ]
  },
  {
   "cell_type": "code",
   "execution_count": 28,
   "id": "6781403c",
   "metadata": {},
   "outputs": [
    {
     "data": {
      "text/plain": [
       "away_team\n",
       "Mexico           1.440191\n",
       "Honduras         1.250000\n",
       "United States    1.143791\n",
       "Canada           1.117188\n",
       "Costa Rica       1.067873\n",
       "Jamaica          1.045455\n",
       "Panama           0.858757\n",
       "El Salvador      0.823944\n",
       "Name: away_score, dtype: float64"
      ]
     },
     "execution_count": 28,
     "metadata": {},
     "output_type": "execute_result"
    }
   ],
   "source": [
    "away_goals_for = CONCACAF_awaygames['away_score'].sort_values(ascending=False)\n",
    "away_goals_for"
   ]
  },
  {
   "cell_type": "code",
   "execution_count": 29,
   "id": "86783b2e",
   "metadata": {},
   "outputs": [
    {
     "data": {
      "text/plain": [
       "away_team\n",
       "El Salvador      1.788732\n",
       "Panama           1.700565\n",
       "Canada           1.578125\n",
       "Honduras         1.527778\n",
       "Jamaica          1.469697\n",
       "Costa Rica       1.466063\n",
       "United States    1.320261\n",
       "Mexico           1.239234\n",
       "Name: home_score, dtype: float64"
      ]
     },
     "execution_count": 29,
     "metadata": {},
     "output_type": "execute_result"
    }
   ],
   "source": [
    "away_goals_against = CONCACAF_awaygames['home_score'].sort_values(ascending=False)\n",
    "away_goals_against"
   ]
  },
  {
   "cell_type": "code",
   "execution_count": 30,
   "id": "f4f72728",
   "metadata": {},
   "outputs": [],
   "source": [
    "# For df - need to write function to average home_goals_for, home_goals_against, away_goals_for, and away_goals_against up to that game"
   ]
  },
  {
   "cell_type": "code",
   "execution_count": null,
   "id": "3a139709",
   "metadata": {},
   "outputs": [],
   "source": []
  }
 ],
 "metadata": {
  "kernelspec": {
   "display_name": "Python 3",
   "language": "python",
   "name": "python3"
  },
  "language_info": {
   "codemirror_mode": {
    "name": "ipython",
    "version": 3
   },
   "file_extension": ".py",
   "mimetype": "text/x-python",
   "name": "python",
   "nbconvert_exporter": "python",
   "pygments_lexer": "ipython3",
   "version": "3.8.8"
  }
 },
 "nbformat": 4,
 "nbformat_minor": 5
}
