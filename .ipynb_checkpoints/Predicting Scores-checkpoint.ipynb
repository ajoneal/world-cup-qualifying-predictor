{
 "cells": [
  {
   "cell_type": "code",
   "execution_count": 8,
   "id": "595ad590",
   "metadata": {},
   "outputs": [],
   "source": [
    "import pandas as pd\n",
    "import numpy as np\n",
    "import matplotlib.pyplot as plt\n",
    "\n",
    "from sklearn.preprocessing import StandardScaler\n",
    "from sklearn.model_selection import train_test_split, GridSearchCV\n",
    "from sklearn import metrics\n",
    "\n",
    "from tensorflow.keras.models import Sequential\n",
    "from tensorflow.keras.layers import Dense\n",
    "from tensorflow.keras.utils import to_categorical\n",
    "from tensorflow.keras.layers import Dropout\n",
    "from tensorflow.keras.callbacks import EarlyStopping"
   ]
  },
  {
   "cell_type": "markdown",
   "id": "1e96fcfd",
   "metadata": {},
   "source": [
    "---"
   ]
  },
  {
   "cell_type": "markdown",
   "id": "8493572e",
   "metadata": {},
   "source": [
    "## NN Model for Predicting Home Score"
   ]
  },
  {
   "cell_type": "code",
   "execution_count": 2,
   "id": "0b0e3a3a",
   "metadata": {},
   "outputs": [
    {
     "data": {
      "text/html": [
       "<div>\n",
       "<style scoped>\n",
       "    .dataframe tbody tr th:only-of-type {\n",
       "        vertical-align: middle;\n",
       "    }\n",
       "\n",
       "    .dataframe tbody tr th {\n",
       "        vertical-align: top;\n",
       "    }\n",
       "\n",
       "    .dataframe thead th {\n",
       "        text-align: right;\n",
       "    }\n",
       "</style>\n",
       "<table border=\"1\" class=\"dataframe\">\n",
       "  <thead>\n",
       "    <tr style=\"text-align: right;\">\n",
       "      <th></th>\n",
       "      <th>date</th>\n",
       "      <th>home_team</th>\n",
       "      <th>away_team</th>\n",
       "      <th>home_score</th>\n",
       "      <th>away_score</th>\n",
       "      <th>tournament</th>\n",
       "      <th>city</th>\n",
       "      <th>country</th>\n",
       "      <th>neutral</th>\n",
       "      <th>home_rank</th>\n",
       "      <th>away_rank</th>\n",
       "      <th>datetime</th>\n",
       "    </tr>\n",
       "  </thead>\n",
       "  <tbody>\n",
       "    <tr>\n",
       "      <th>0</th>\n",
       "      <td>1993-01-01</td>\n",
       "      <td>Ghana</td>\n",
       "      <td>Mali</td>\n",
       "      <td>1</td>\n",
       "      <td>1</td>\n",
       "      <td>Friendly</td>\n",
       "      <td>Libreville</td>\n",
       "      <td>Gabon</td>\n",
       "      <td>1</td>\n",
       "      <td>39.0</td>\n",
       "      <td>69.0</td>\n",
       "      <td>1993-01-01</td>\n",
       "    </tr>\n",
       "    <tr>\n",
       "      <th>1</th>\n",
       "      <td>1993-01-02</td>\n",
       "      <td>Gabon</td>\n",
       "      <td>Burkina Faso</td>\n",
       "      <td>1</td>\n",
       "      <td>1</td>\n",
       "      <td>Friendly</td>\n",
       "      <td>Libreville</td>\n",
       "      <td>Gabon</td>\n",
       "      <td>0</td>\n",
       "      <td>55.0</td>\n",
       "      <td>97.0</td>\n",
       "      <td>1993-01-02</td>\n",
       "    </tr>\n",
       "    <tr>\n",
       "      <th>2</th>\n",
       "      <td>1993-01-02</td>\n",
       "      <td>Kuwait</td>\n",
       "      <td>Lebanon</td>\n",
       "      <td>2</td>\n",
       "      <td>0</td>\n",
       "      <td>Friendly</td>\n",
       "      <td>Kuwait City</td>\n",
       "      <td>Kuwait</td>\n",
       "      <td>0</td>\n",
       "      <td>71.0</td>\n",
       "      <td>161.0</td>\n",
       "      <td>1993-01-02</td>\n",
       "    </tr>\n",
       "    <tr>\n",
       "      <th>3</th>\n",
       "      <td>1993-01-03</td>\n",
       "      <td>Burkina Faso</td>\n",
       "      <td>Mali</td>\n",
       "      <td>1</td>\n",
       "      <td>0</td>\n",
       "      <td>Friendly</td>\n",
       "      <td>Libreville</td>\n",
       "      <td>Gabon</td>\n",
       "      <td>1</td>\n",
       "      <td>97.0</td>\n",
       "      <td>69.0</td>\n",
       "      <td>1993-01-03</td>\n",
       "    </tr>\n",
       "    <tr>\n",
       "      <th>4</th>\n",
       "      <td>1993-01-03</td>\n",
       "      <td>Gabon</td>\n",
       "      <td>Ghana</td>\n",
       "      <td>2</td>\n",
       "      <td>3</td>\n",
       "      <td>Friendly</td>\n",
       "      <td>Libreville</td>\n",
       "      <td>Gabon</td>\n",
       "      <td>0</td>\n",
       "      <td>55.0</td>\n",
       "      <td>39.0</td>\n",
       "      <td>1993-01-03</td>\n",
       "    </tr>\n",
       "  </tbody>\n",
       "</table>\n",
       "</div>"
      ],
      "text/plain": [
       "         date     home_team     away_team  home_score  away_score tournament  \\\n",
       "0  1993-01-01         Ghana          Mali           1           1   Friendly   \n",
       "1  1993-01-02         Gabon  Burkina Faso           1           1   Friendly   \n",
       "2  1993-01-02        Kuwait       Lebanon           2           0   Friendly   \n",
       "3  1993-01-03  Burkina Faso          Mali           1           0   Friendly   \n",
       "4  1993-01-03         Gabon         Ghana           2           3   Friendly   \n",
       "\n",
       "          city country  neutral  home_rank  away_rank    datetime  \n",
       "0   Libreville   Gabon        1       39.0       69.0  1993-01-01  \n",
       "1   Libreville   Gabon        0       55.0       97.0  1993-01-02  \n",
       "2  Kuwait City  Kuwait        0       71.0      161.0  1993-01-02  \n",
       "3   Libreville   Gabon        1       97.0       69.0  1993-01-03  \n",
       "4   Libreville   Gabon        0       55.0       39.0  1993-01-03  "
      ]
     },
     "execution_count": 2,
     "metadata": {},
     "output_type": "execute_result"
    }
   ],
   "source": [
    "df = pd.read_csv('./data/cleaned_results_and_rankings.csv')\n",
    "df.head()"
   ]
  },
  {
   "cell_type": "code",
   "execution_count": 35,
   "id": "4c5f9d10",
   "metadata": {},
   "outputs": [],
   "source": [
    "features = ['neutral', 'home_rank', 'away_rank']\n",
    "X = df[features]\n",
    "y = to_categorical(df['home_score'])"
   ]
  },
  {
   "cell_type": "code",
   "execution_count": 36,
   "id": "16df982d",
   "metadata": {},
   "outputs": [],
   "source": [
    "X_train, X_test, y_train, y_test = train_test_split(X, y, random_state=42)"
   ]
  },
  {
   "cell_type": "code",
   "execution_count": 37,
   "id": "84003be6",
   "metadata": {},
   "outputs": [],
   "source": [
    "ss = StandardScaler()\n",
    "ss.fit(X_train, y_train)\n",
    "X_train_sc = ss.transform(X_train)\n",
    "X_test_sc = ss.transform(X_test)"
   ]
  },
  {
   "cell_type": "code",
   "execution_count": 38,
   "id": "9bd77cd9",
   "metadata": {},
   "outputs": [],
   "source": [
    "home_model = Sequential()\n",
    "\n",
    "home_model.add(Dense(32, activation='relu', input_shape=(3,)))\n",
    "home_model.add(Dropout(.6))\n",
    "home_model.add(Dense(32, activation='relu'))\n",
    "home_model.add(Dropout(.4))\n",
    "home_model.add(Dense(32, activation='relu'))\n",
    "home_model.add(Dropout(.2))\n",
    "home_model.add(Dense(11, activation='softmax'))\n",
    "\n",
    "early_stop = EarlyStopping(patience=5)\n",
    "\n",
    "home_model.compile(loss='categorical_crossentropy', optimizer='adam', metrics=['acc'])"
   ]
  },
  {
   "cell_type": "code",
   "execution_count": 39,
   "id": "bfe6b78d",
   "metadata": {
    "scrolled": true
   },
   "outputs": [
    {
     "name": "stdout",
     "output_type": "stream",
     "text": [
      "Epoch 1/100\n",
      "35/35 [==============================] - 1s 5ms/step - loss: 2.3233 - acc: 0.1517 - val_loss: 2.1747 - val_acc: 0.3039\n",
      "Epoch 2/100\n",
      "35/35 [==============================] - 0s 2ms/step - loss: 2.0158 - acc: 0.2828 - val_loss: 1.7959 - val_acc: 0.3074\n",
      "Epoch 3/100\n",
      "35/35 [==============================] - 0s 2ms/step - loss: 1.8067 - acc: 0.2838 - val_loss: 1.6597 - val_acc: 0.3167\n",
      "Epoch 4/100\n",
      "35/35 [==============================] - 0s 2ms/step - loss: 1.7363 - acc: 0.2807 - val_loss: 1.6305 - val_acc: 0.3113\n",
      "Epoch 5/100\n",
      "35/35 [==============================] - 0s 2ms/step - loss: 1.6984 - acc: 0.2891 - val_loss: 1.6120 - val_acc: 0.3145\n",
      "Epoch 6/100\n",
      "35/35 [==============================] - 0s 2ms/step - loss: 1.6678 - acc: 0.2988 - val_loss: 1.5985 - val_acc: 0.3242\n",
      "Epoch 7/100\n",
      "35/35 [==============================] - 0s 2ms/step - loss: 1.6497 - acc: 0.3035 - val_loss: 1.5884 - val_acc: 0.3261\n",
      "Epoch 8/100\n",
      "35/35 [==============================] - 0s 2ms/step - loss: 1.6413 - acc: 0.3019 - val_loss: 1.5850 - val_acc: 0.3286\n",
      "Epoch 9/100\n",
      "35/35 [==============================] - 0s 2ms/step - loss: 1.6298 - acc: 0.3081 - val_loss: 1.5784 - val_acc: 0.3328\n",
      "Epoch 10/100\n",
      "35/35 [==============================] - 0s 2ms/step - loss: 1.6216 - acc: 0.3084 - val_loss: 1.5763 - val_acc: 0.3310\n",
      "Epoch 11/100\n",
      "35/35 [==============================] - 0s 2ms/step - loss: 1.6206 - acc: 0.3128 - val_loss: 1.5729 - val_acc: 0.3234\n",
      "Epoch 12/100\n",
      "35/35 [==============================] - 0s 2ms/step - loss: 1.6099 - acc: 0.3140 - val_loss: 1.5713 - val_acc: 0.3264\n",
      "Epoch 13/100\n",
      "35/35 [==============================] - 0s 2ms/step - loss: 1.6109 - acc: 0.3215 - val_loss: 1.5688 - val_acc: 0.3258\n",
      "Epoch 14/100\n",
      "35/35 [==============================] - 0s 2ms/step - loss: 1.6084 - acc: 0.3157 - val_loss: 1.5677 - val_acc: 0.3281\n",
      "Epoch 15/100\n",
      "35/35 [==============================] - 0s 2ms/step - loss: 1.5992 - acc: 0.3181 - val_loss: 1.5669 - val_acc: 0.3301\n",
      "Epoch 16/100\n",
      "35/35 [==============================] - 0s 2ms/step - loss: 1.6000 - acc: 0.3169 - val_loss: 1.5664 - val_acc: 0.3296\n",
      "Epoch 17/100\n",
      "35/35 [==============================] - 0s 2ms/step - loss: 1.5959 - acc: 0.3249 - val_loss: 1.5651 - val_acc: 0.3285\n",
      "Epoch 18/100\n",
      "35/35 [==============================] - 0s 2ms/step - loss: 1.5948 - acc: 0.3224 - val_loss: 1.5641 - val_acc: 0.3288\n",
      "Epoch 19/100\n",
      "35/35 [==============================] - 0s 2ms/step - loss: 1.5930 - acc: 0.3250 - val_loss: 1.5625 - val_acc: 0.3285\n",
      "Epoch 20/100\n",
      "35/35 [==============================] - 0s 2ms/step - loss: 1.5906 - acc: 0.3299 - val_loss: 1.5620 - val_acc: 0.3296\n",
      "Epoch 21/100\n",
      "35/35 [==============================] - 0s 2ms/step - loss: 1.5918 - acc: 0.3227 - val_loss: 1.5624 - val_acc: 0.3310\n",
      "Epoch 22/100\n",
      "35/35 [==============================] - 0s 2ms/step - loss: 1.5877 - acc: 0.3316 - val_loss: 1.5602 - val_acc: 0.3311\n",
      "Epoch 23/100\n",
      "35/35 [==============================] - 0s 2ms/step - loss: 1.5869 - acc: 0.3286 - val_loss: 1.5599 - val_acc: 0.3318\n",
      "Epoch 24/100\n",
      "35/35 [==============================] - 0s 2ms/step - loss: 1.5870 - acc: 0.3301 - val_loss: 1.5627 - val_acc: 0.3313\n",
      "Epoch 25/100\n",
      "35/35 [==============================] - 0s 2ms/step - loss: 1.5869 - acc: 0.3300 - val_loss: 1.5621 - val_acc: 0.3362\n",
      "Epoch 26/100\n",
      "35/35 [==============================] - 0s 2ms/step - loss: 1.5830 - acc: 0.3309 - val_loss: 1.5598 - val_acc: 0.3330\n",
      "Epoch 27/100\n",
      "35/35 [==============================] - 0s 2ms/step - loss: 1.5848 - acc: 0.3275 - val_loss: 1.5592 - val_acc: 0.3303\n",
      "Epoch 28/100\n",
      "35/35 [==============================] - 0s 2ms/step - loss: 1.5823 - acc: 0.3291 - val_loss: 1.5583 - val_acc: 0.3322\n",
      "Epoch 29/100\n",
      "35/35 [==============================] - 0s 2ms/step - loss: 1.5845 - acc: 0.3239 - val_loss: 1.5591 - val_acc: 0.3352\n",
      "Epoch 30/100\n",
      "35/35 [==============================] - 0s 2ms/step - loss: 1.5828 - acc: 0.3266 - val_loss: 1.5580 - val_acc: 0.3322\n",
      "Epoch 31/100\n",
      "35/35 [==============================] - 0s 2ms/step - loss: 1.5811 - acc: 0.3337 - val_loss: 1.5588 - val_acc: 0.3354\n",
      "Epoch 32/100\n",
      "35/35 [==============================] - 0s 2ms/step - loss: 1.5798 - acc: 0.3323 - val_loss: 1.5595 - val_acc: 0.3350\n",
      "Epoch 33/100\n",
      "35/35 [==============================] - 0s 2ms/step - loss: 1.5797 - acc: 0.3306 - val_loss: 1.5573 - val_acc: 0.3337\n",
      "Epoch 34/100\n",
      "35/35 [==============================] - 0s 2ms/step - loss: 1.5777 - acc: 0.3327 - val_loss: 1.5570 - val_acc: 0.3343\n",
      "Epoch 35/100\n",
      "35/35 [==============================] - 0s 3ms/step - loss: 1.5790 - acc: 0.3306 - val_loss: 1.5589 - val_acc: 0.3348\n",
      "Epoch 36/100\n",
      "35/35 [==============================] - 0s 3ms/step - loss: 1.5782 - acc: 0.3342 - val_loss: 1.5596 - val_acc: 0.3380\n",
      "Epoch 37/100\n",
      "35/35 [==============================] - 0s 2ms/step - loss: 1.5762 - acc: 0.3300 - val_loss: 1.5602 - val_acc: 0.3354\n",
      "Epoch 38/100\n",
      "35/35 [==============================] - 0s 2ms/step - loss: 1.5774 - acc: 0.3305 - val_loss: 1.5574 - val_acc: 0.3362\n",
      "Epoch 39/100\n",
      "35/35 [==============================] - 0s 2ms/step - loss: 1.5769 - acc: 0.3286 - val_loss: 1.5589 - val_acc: 0.3362\n"
     ]
    },
    {
     "data": {
      "text/plain": [
       "<keras.callbacks.History at 0x245915d7d00>"
      ]
     },
     "execution_count": 39,
     "metadata": {},
     "output_type": "execute_result"
    }
   ],
   "source": [
    "home_model.fit(X_train_sc, y_train,\n",
    "               batch_size=512,\n",
    "               epochs=100,\n",
    "               validation_data=(X_test_sc, y_test),\n",
    "               callbacks=[early_stop])"
   ]
  },
  {
   "cell_type": "markdown",
   "id": "41cb31ae",
   "metadata": {},
   "source": [
    "---"
   ]
  },
  {
   "cell_type": "markdown",
   "id": "14aad916",
   "metadata": {},
   "source": [
    "## NN Model for Predicting Away Score"
   ]
  },
  {
   "cell_type": "code",
   "execution_count": 44,
   "id": "622ec3ad",
   "metadata": {},
   "outputs": [],
   "source": [
    "features = ['neutral', 'home_rank', 'away_rank']\n",
    "X = df[features]\n",
    "y = to_categorical(df['away_score'])"
   ]
  },
  {
   "cell_type": "code",
   "execution_count": 49,
   "id": "230d183c",
   "metadata": {},
   "outputs": [],
   "source": [
    "X_train, X_test, y_train, y_test = train_test_split(X, y, random_state=42)"
   ]
  },
  {
   "cell_type": "code",
   "execution_count": 50,
   "id": "32dff35c",
   "metadata": {},
   "outputs": [],
   "source": [
    "ss = StandardScaler()\n",
    "ss.fit(X_train, y_train)\n",
    "X_train_sc = ss.transform(X_train)\n",
    "X_test_sc = ss.transform(X_test)"
   ]
  },
  {
   "cell_type": "code",
   "execution_count": 51,
   "id": "cb1ed49b",
   "metadata": {},
   "outputs": [],
   "source": [
    "away_model = Sequential()\n",
    "\n",
    "away_model.add(Dense(32, activation='relu', input_shape=(3,)))\n",
    "away_model.add(Dropout(.6))\n",
    "away_model.add(Dense(32, activation='relu'))\n",
    "away_model.add(Dropout(.4))\n",
    "away_model.add(Dense(32, activation='relu'))\n",
    "away_model.add(Dropout(.2))\n",
    "away_model.add(Dense(11, activation='softmax'))\n",
    "\n",
    "early_stop = EarlyStopping(patience=5)\n",
    "\n",
    "away_model.compile(loss='categorical_crossentropy', optimizer='adam', metrics=['acc'])"
   ]
  },
  {
   "cell_type": "code",
   "execution_count": 52,
   "id": "8accb2ba",
   "metadata": {
    "scrolled": true
   },
   "outputs": [
    {
     "name": "stdout",
     "output_type": "stream",
     "text": [
      "Epoch 1/100\n",
      "35/35 [==============================] - 1s 6ms/step - loss: 2.0668 - acc: 0.2712 - val_loss: 1.7408 - val_acc: 0.3613\n",
      "Epoch 2/100\n",
      "35/35 [==============================] - 0s 2ms/step - loss: 1.6465 - acc: 0.3665 - val_loss: 1.4442 - val_acc: 0.4097\n",
      "Epoch 3/100\n",
      "35/35 [==============================] - 0s 2ms/step - loss: 1.5234 - acc: 0.3722 - val_loss: 1.4008 - val_acc: 0.4104\n",
      "Epoch 4/100\n",
      "35/35 [==============================] - 0s 2ms/step - loss: 1.4793 - acc: 0.3787 - val_loss: 1.3823 - val_acc: 0.4185\n",
      "Epoch 5/100\n",
      "35/35 [==============================] - 0s 2ms/step - loss: 1.4465 - acc: 0.3870 - val_loss: 1.3711 - val_acc: 0.4116\n",
      "Epoch 6/100\n",
      "35/35 [==============================] - 0s 2ms/step - loss: 1.4309 - acc: 0.3851 - val_loss: 1.3640 - val_acc: 0.4160\n",
      "Epoch 7/100\n",
      "35/35 [==============================] - 0s 2ms/step - loss: 1.4116 - acc: 0.3939 - val_loss: 1.3549 - val_acc: 0.4163\n",
      "Epoch 8/100\n",
      "35/35 [==============================] - 0s 2ms/step - loss: 1.3997 - acc: 0.3964 - val_loss: 1.3500 - val_acc: 0.4161\n",
      "Epoch 9/100\n",
      "35/35 [==============================] - 0s 2ms/step - loss: 1.3914 - acc: 0.3952 - val_loss: 1.3476 - val_acc: 0.4188\n",
      "Epoch 10/100\n",
      "35/35 [==============================] - 0s 2ms/step - loss: 1.3816 - acc: 0.4019 - val_loss: 1.3416 - val_acc: 0.4144\n",
      "Epoch 11/100\n",
      "35/35 [==============================] - 0s 2ms/step - loss: 1.3776 - acc: 0.3994 - val_loss: 1.3388 - val_acc: 0.4198\n",
      "Epoch 12/100\n",
      "35/35 [==============================] - 0s 2ms/step - loss: 1.3720 - acc: 0.4071 - val_loss: 1.3363 - val_acc: 0.4143\n",
      "Epoch 13/100\n",
      "35/35 [==============================] - 0s 2ms/step - loss: 1.3689 - acc: 0.4055 - val_loss: 1.3354 - val_acc: 0.4141\n",
      "Epoch 14/100\n",
      "35/35 [==============================] - 0s 2ms/step - loss: 1.3628 - acc: 0.4050 - val_loss: 1.3323 - val_acc: 0.4158\n",
      "Epoch 15/100\n",
      "35/35 [==============================] - 0s 3ms/step - loss: 1.3627 - acc: 0.4043 - val_loss: 1.3315 - val_acc: 0.4175\n",
      "Epoch 16/100\n",
      "35/35 [==============================] - 0s 2ms/step - loss: 1.3596 - acc: 0.4079 - val_loss: 1.3312 - val_acc: 0.4188\n",
      "Epoch 17/100\n",
      "35/35 [==============================] - 0s 2ms/step - loss: 1.3576 - acc: 0.4097 - val_loss: 1.3302 - val_acc: 0.4203\n",
      "Epoch 18/100\n",
      "35/35 [==============================] - 0s 2ms/step - loss: 1.3585 - acc: 0.4068 - val_loss: 1.3283 - val_acc: 0.4208\n",
      "Epoch 19/100\n",
      "35/35 [==============================] - 0s 2ms/step - loss: 1.3524 - acc: 0.4080 - val_loss: 1.3259 - val_acc: 0.4195\n",
      "Epoch 20/100\n",
      "35/35 [==============================] - 0s 2ms/step - loss: 1.3520 - acc: 0.4095 - val_loss: 1.3254 - val_acc: 0.4207\n",
      "Epoch 21/100\n",
      "35/35 [==============================] - 0s 2ms/step - loss: 1.3508 - acc: 0.4102 - val_loss: 1.3250 - val_acc: 0.4210\n",
      "Epoch 22/100\n",
      "35/35 [==============================] - 0s 2ms/step - loss: 1.3500 - acc: 0.4106 - val_loss: 1.3246 - val_acc: 0.4208\n",
      "Epoch 23/100\n",
      "35/35 [==============================] - 0s 2ms/step - loss: 1.3484 - acc: 0.4102 - val_loss: 1.3237 - val_acc: 0.4175\n",
      "Epoch 24/100\n",
      "35/35 [==============================] - 0s 2ms/step - loss: 1.3454 - acc: 0.4139 - val_loss: 1.3232 - val_acc: 0.4195\n",
      "Epoch 25/100\n",
      "35/35 [==============================] - 0s 2ms/step - loss: 1.3470 - acc: 0.4129 - val_loss: 1.3227 - val_acc: 0.4200\n",
      "Epoch 26/100\n",
      "35/35 [==============================] - 0s 2ms/step - loss: 1.3431 - acc: 0.4172 - val_loss: 1.3220 - val_acc: 0.4183\n",
      "Epoch 27/100\n",
      "35/35 [==============================] - 0s 2ms/step - loss: 1.3432 - acc: 0.4129 - val_loss: 1.3222 - val_acc: 0.4229\n",
      "Epoch 28/100\n",
      "35/35 [==============================] - 0s 2ms/step - loss: 1.3431 - acc: 0.4164 - val_loss: 1.3209 - val_acc: 0.4195\n",
      "Epoch 29/100\n",
      "35/35 [==============================] - 0s 2ms/step - loss: 1.3426 - acc: 0.4106 - val_loss: 1.3200 - val_acc: 0.4183\n",
      "Epoch 30/100\n",
      "35/35 [==============================] - 0s 2ms/step - loss: 1.3428 - acc: 0.4177 - val_loss: 1.3215 - val_acc: 0.4252\n",
      "Epoch 31/100\n",
      "35/35 [==============================] - 0s 2ms/step - loss: 1.3402 - acc: 0.4173 - val_loss: 1.3207 - val_acc: 0.4230\n",
      "Epoch 32/100\n",
      "35/35 [==============================] - 0s 2ms/step - loss: 1.3394 - acc: 0.4171 - val_loss: 1.3198 - val_acc: 0.4193\n",
      "Epoch 33/100\n",
      "35/35 [==============================] - 0s 2ms/step - loss: 1.3388 - acc: 0.4155 - val_loss: 1.3204 - val_acc: 0.4254\n",
      "Epoch 34/100\n",
      "35/35 [==============================] - 0s 2ms/step - loss: 1.3388 - acc: 0.4182 - val_loss: 1.3199 - val_acc: 0.4247\n",
      "Epoch 35/100\n",
      "35/35 [==============================] - 0s 2ms/step - loss: 1.3386 - acc: 0.4170 - val_loss: 1.3206 - val_acc: 0.4272\n",
      "Epoch 36/100\n",
      "35/35 [==============================] - 0s 2ms/step - loss: 1.3351 - acc: 0.4167 - val_loss: 1.3191 - val_acc: 0.4257\n",
      "Epoch 37/100\n",
      "35/35 [==============================] - 0s 2ms/step - loss: 1.3368 - acc: 0.4188 - val_loss: 1.3188 - val_acc: 0.4240\n",
      "Epoch 38/100\n",
      "35/35 [==============================] - 0s 2ms/step - loss: 1.3376 - acc: 0.4165 - val_loss: 1.3206 - val_acc: 0.4257\n",
      "Epoch 39/100\n",
      "35/35 [==============================] - 0s 2ms/step - loss: 1.3375 - acc: 0.4146 - val_loss: 1.3213 - val_acc: 0.4242\n",
      "Epoch 40/100\n",
      "35/35 [==============================] - 0s 2ms/step - loss: 1.3348 - acc: 0.4160 - val_loss: 1.3192 - val_acc: 0.4250\n",
      "Epoch 41/100\n",
      "35/35 [==============================] - 0s 2ms/step - loss: 1.3339 - acc: 0.4189 - val_loss: 1.3190 - val_acc: 0.4240\n",
      "Epoch 42/100\n",
      "35/35 [==============================] - 0s 2ms/step - loss: 1.3367 - acc: 0.4138 - val_loss: 1.3196 - val_acc: 0.4245\n"
     ]
    },
    {
     "data": {
      "text/plain": [
       "<keras.callbacks.History at 0x2459329d550>"
      ]
     },
     "execution_count": 52,
     "metadata": {},
     "output_type": "execute_result"
    }
   ],
   "source": [
    "away_model.fit(X_train_sc, y_train,\n",
    "               batch_size=512,\n",
    "               epochs=100,\n",
    "               validation_data=(X_test_sc, y_test),\n",
    "               callbacks=[early_stop])"
   ]
  },
  {
   "cell_type": "code",
   "execution_count": null,
   "id": "677c70f1",
   "metadata": {},
   "outputs": [],
   "source": []
  }
 ],
 "metadata": {
  "kernelspec": {
   "display_name": "Python 3",
   "language": "python",
   "name": "python3"
  },
  "language_info": {
   "codemirror_mode": {
    "name": "ipython",
    "version": 3
   },
   "file_extension": ".py",
   "mimetype": "text/x-python",
   "name": "python",
   "nbconvert_exporter": "python",
   "pygments_lexer": "ipython3",
   "version": "3.8.8"
  }
 },
 "nbformat": 4,
 "nbformat_minor": 5
}
